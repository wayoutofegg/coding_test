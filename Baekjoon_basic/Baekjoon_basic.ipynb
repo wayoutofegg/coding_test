{
 "cells": [
  {
   "cell_type": "markdown",
   "id": "4c909ab9",
   "metadata": {},
   "source": [
    "## 입출력과 사칙연산"
   ]
  },
  {
   "cell_type": "markdown",
   "id": "28d9cafc",
   "metadata": {},
   "source": [
    "### 2557"
   ]
  },
  {
   "cell_type": "code",
   "execution_count": 1,
   "id": "e40b2641",
   "metadata": {},
   "outputs": [
    {
     "name": "stdout",
     "output_type": "stream",
     "text": [
      "Hello World!\n"
     ]
    }
   ],
   "source": [
    "print('Hello World!')"
   ]
  },
  {
   "cell_type": "markdown",
   "id": "3fd0f40b",
   "metadata": {},
   "source": [
    "### 1000"
   ]
  },
  {
   "cell_type": "code",
   "execution_count": 2,
   "id": "ff3b2c5c",
   "metadata": {
    "collapsed": true
   },
   "outputs": [
    {
     "ename": "KeyboardInterrupt",
     "evalue": "Interrupted by user",
     "output_type": "error",
     "traceback": [
      "\u001b[1;31m---------------------------------------------------------------------------\u001b[0m",
      "\u001b[1;31mKeyboardInterrupt\u001b[0m                         Traceback (most recent call last)",
      "Input \u001b[1;32mIn [2]\u001b[0m, in \u001b[0;36m<cell line: 1>\u001b[1;34m()\u001b[0m\n\u001b[1;32m----> 1\u001b[0m a, b \u001b[38;5;241m=\u001b[39m \u001b[38;5;28;43minput\u001b[39;49m\u001b[43m(\u001b[49m\u001b[43m)\u001b[49m\u001b[38;5;241m.\u001b[39msplit()\n\u001b[0;32m      2\u001b[0m c \u001b[38;5;241m=\u001b[39m \u001b[38;5;28mint\u001b[39m(a) \u001b[38;5;241m+\u001b[39m \u001b[38;5;28mint\u001b[39m(b)\n\u001b[0;32m      3\u001b[0m \u001b[38;5;28mprint\u001b[39m(c)\n",
      "File \u001b[1;32m~\\anaconda3\\lib\\site-packages\\ipykernel\\kernelbase.py:1075\u001b[0m, in \u001b[0;36mKernel.raw_input\u001b[1;34m(self, prompt)\u001b[0m\n\u001b[0;32m   1071\u001b[0m \u001b[38;5;28;01mif\u001b[39;00m \u001b[38;5;129;01mnot\u001b[39;00m \u001b[38;5;28mself\u001b[39m\u001b[38;5;241m.\u001b[39m_allow_stdin:\n\u001b[0;32m   1072\u001b[0m     \u001b[38;5;28;01mraise\u001b[39;00m StdinNotImplementedError(\n\u001b[0;32m   1073\u001b[0m         \u001b[38;5;124m\"\u001b[39m\u001b[38;5;124mraw_input was called, but this frontend does not support input requests.\u001b[39m\u001b[38;5;124m\"\u001b[39m\n\u001b[0;32m   1074\u001b[0m     )\n\u001b[1;32m-> 1075\u001b[0m \u001b[38;5;28;01mreturn\u001b[39;00m \u001b[38;5;28;43mself\u001b[39;49m\u001b[38;5;241;43m.\u001b[39;49m\u001b[43m_input_request\u001b[49m\u001b[43m(\u001b[49m\n\u001b[0;32m   1076\u001b[0m \u001b[43m    \u001b[49m\u001b[38;5;28;43mstr\u001b[39;49m\u001b[43m(\u001b[49m\u001b[43mprompt\u001b[49m\u001b[43m)\u001b[49m\u001b[43m,\u001b[49m\n\u001b[0;32m   1077\u001b[0m \u001b[43m    \u001b[49m\u001b[38;5;28;43mself\u001b[39;49m\u001b[38;5;241;43m.\u001b[39;49m\u001b[43m_parent_ident\u001b[49m\u001b[43m[\u001b[49m\u001b[38;5;124;43m\"\u001b[39;49m\u001b[38;5;124;43mshell\u001b[39;49m\u001b[38;5;124;43m\"\u001b[39;49m\u001b[43m]\u001b[49m\u001b[43m,\u001b[49m\n\u001b[0;32m   1078\u001b[0m \u001b[43m    \u001b[49m\u001b[38;5;28;43mself\u001b[39;49m\u001b[38;5;241;43m.\u001b[39;49m\u001b[43mget_parent\u001b[49m\u001b[43m(\u001b[49m\u001b[38;5;124;43m\"\u001b[39;49m\u001b[38;5;124;43mshell\u001b[39;49m\u001b[38;5;124;43m\"\u001b[39;49m\u001b[43m)\u001b[49m\u001b[43m,\u001b[49m\n\u001b[0;32m   1079\u001b[0m \u001b[43m    \u001b[49m\u001b[43mpassword\u001b[49m\u001b[38;5;241;43m=\u001b[39;49m\u001b[38;5;28;43;01mFalse\u001b[39;49;00m\u001b[43m,\u001b[49m\n\u001b[0;32m   1080\u001b[0m \u001b[43m\u001b[49m\u001b[43m)\u001b[49m\n",
      "File \u001b[1;32m~\\anaconda3\\lib\\site-packages\\ipykernel\\kernelbase.py:1120\u001b[0m, in \u001b[0;36mKernel._input_request\u001b[1;34m(self, prompt, ident, parent, password)\u001b[0m\n\u001b[0;32m   1117\u001b[0m             \u001b[38;5;28;01mbreak\u001b[39;00m\n\u001b[0;32m   1118\u001b[0m \u001b[38;5;28;01mexcept\u001b[39;00m \u001b[38;5;167;01mKeyboardInterrupt\u001b[39;00m:\n\u001b[0;32m   1119\u001b[0m     \u001b[38;5;66;03m# re-raise KeyboardInterrupt, to truncate traceback\u001b[39;00m\n\u001b[1;32m-> 1120\u001b[0m     \u001b[38;5;28;01mraise\u001b[39;00m \u001b[38;5;167;01mKeyboardInterrupt\u001b[39;00m(\u001b[38;5;124m\"\u001b[39m\u001b[38;5;124mInterrupted by user\u001b[39m\u001b[38;5;124m\"\u001b[39m) \u001b[38;5;28;01mfrom\u001b[39;00m \u001b[38;5;28mNone\u001b[39m\n\u001b[0;32m   1121\u001b[0m \u001b[38;5;28;01mexcept\u001b[39;00m \u001b[38;5;167;01mException\u001b[39;00m:\n\u001b[0;32m   1122\u001b[0m     \u001b[38;5;28mself\u001b[39m\u001b[38;5;241m.\u001b[39mlog\u001b[38;5;241m.\u001b[39mwarning(\u001b[38;5;124m\"\u001b[39m\u001b[38;5;124mInvalid Message:\u001b[39m\u001b[38;5;124m\"\u001b[39m, exc_info\u001b[38;5;241m=\u001b[39m\u001b[38;5;28;01mTrue\u001b[39;00m)\n",
      "\u001b[1;31mKeyboardInterrupt\u001b[0m: Interrupted by user"
     ]
    }
   ],
   "source": [
    "a, b = input().split()\n",
    "c = int(a) + int(b)\n",
    "print(c)"
   ]
  },
  {
   "cell_type": "markdown",
   "id": "7e4b0d8c",
   "metadata": {},
   "source": [
    "### 1001"
   ]
  },
  {
   "cell_type": "code",
   "execution_count": null,
   "id": "4604a590",
   "metadata": {},
   "outputs": [],
   "source": [
    "a, b = input().split()\n",
    "c = int(a) - int(b)\n",
    "print(c)"
   ]
  },
  {
   "cell_type": "markdown",
   "id": "1d6ecd50",
   "metadata": {},
   "source": [
    "### 10998"
   ]
  },
  {
   "cell_type": "code",
   "execution_count": null,
   "id": "59895612",
   "metadata": {},
   "outputs": [],
   "source": [
    "a, b = input().split()\n",
    "c = int(a) * int(b)\n",
    "print(c)"
   ]
  },
  {
   "cell_type": "markdown",
   "id": "26f7a0ca",
   "metadata": {},
   "source": [
    "### 1008"
   ]
  },
  {
   "cell_type": "code",
   "execution_count": null,
   "id": "04b04fe2",
   "metadata": {},
   "outputs": [],
   "source": [
    "a, b = input().split()\n",
    "c = int(a) / int(b)\n",
    "print('%.11f'%c)"
   ]
  },
  {
   "cell_type": "markdown",
   "id": "5d12349a",
   "metadata": {},
   "source": [
    "### 10869"
   ]
  },
  {
   "cell_type": "code",
   "execution_count": null,
   "id": "eb842a1f",
   "metadata": {},
   "outputs": [],
   "source": [
    "a, b = input().split()\n",
    "sum_ = int(a) + int(b)\n",
    "dif_ = int(a) - int(b)\n",
    "multi_ = int(a) * int(b)\n",
    "div_ = int(a) / int(b)\n",
    "lef_ = int(a) % int(b)\n",
    "\n",
    "print(sum_)\n",
    "print(dif_)\n",
    "print(multi_)\n",
    "print('%d'%div_)\n",
    "print(lef_)"
   ]
  },
  {
   "cell_type": "markdown",
   "id": "3b47d388",
   "metadata": {},
   "source": [
    "### 10926"
   ]
  },
  {
   "cell_type": "code",
   "execution_count": null,
   "id": "d0ede8ab",
   "metadata": {},
   "outputs": [],
   "source": [
    "L = input()\n",
    "print(L + '??!')"
   ]
  },
  {
   "cell_type": "markdown",
   "id": "1c6db35f",
   "metadata": {},
   "source": [
    "### 18108"
   ]
  },
  {
   "cell_type": "code",
   "execution_count": null,
   "id": "f9ca105b",
   "metadata": {},
   "outputs": [],
   "source": [
    "year = int(input())\n",
    "year_b = year - 543\n",
    "print('%d'%year_b)"
   ]
  },
  {
   "cell_type": "markdown",
   "id": "51ea22ba",
   "metadata": {},
   "source": [
    "### 10430"
   ]
  },
  {
   "cell_type": "code",
   "execution_count": null,
   "id": "6ea1f585",
   "metadata": {},
   "outputs": [],
   "source": [
    "a, b, c = input().split()\n",
    "a = int(a)\n",
    "b = int(b)\n",
    "c = int(c)\n",
    "\n",
    "print('%d' %( (a+b)%c) )\n",
    "print('%d' %( ((a%c) + (b%c)) %c ))\n",
    "print('%d' %( (a*b)%c) )\n",
    "print('%d' %( ((a%c) * (b%c)) %c ))"
   ]
  },
  {
   "cell_type": "markdown",
   "id": "fe030420",
   "metadata": {},
   "source": [
    "### 2588 - Q"
   ]
  },
  {
   "cell_type": "code",
   "execution_count": null,
   "id": "20695a3f",
   "metadata": {},
   "outputs": [],
   "source": [
    "a = int(input())\n",
    "a = int(a)\n",
    "\n",
    "b = input()\n",
    "b_100 = int(b[0])\n",
    "b_10 = int(b[1])\n",
    "b_1 = int(b[2])\n",
    "b = int(b)\n",
    "\n",
    "print('%d'% (a*b_1) )\n",
    "print('%d'% (a*b_10) )\n",
    "print('%d'% (a*b_100) )\n",
    "print('%d'% (a*b) )\n",
    "\n",
    "# 왜 괄호를 해야 값이 제대로 나오나?\n",
    "# 배열로 각 자리수를 받아온다는 마인드"
   ]
  },
  {
   "cell_type": "markdown",
   "id": "0097a0b5",
   "metadata": {},
   "source": [
    "### 11382"
   ]
  },
  {
   "cell_type": "code",
   "execution_count": null,
   "id": "a804b8fd",
   "metadata": {},
   "outputs": [],
   "source": [
    "a, b, c = input().split()\n",
    "\n",
    "k = int(a) + int(b) + int(c)\n",
    "print(k)"
   ]
  },
  {
   "cell_type": "markdown",
   "id": "1c1deef0",
   "metadata": {},
   "source": [
    "### 10171"
   ]
  },
  {
   "cell_type": "code",
   "execution_count": null,
   "id": "4dfeb1bc",
   "metadata": {},
   "outputs": [],
   "source": [
    "print('\\\\    /\\\\')\n",
    "print(' )  ( \\')')\n",
    "print('(  /  )')\n",
    "print(' \\(__)|')"
   ]
  },
  {
   "cell_type": "markdown",
   "id": "1578c062",
   "metadata": {},
   "source": [
    "### 10172 - Q"
   ]
  },
  {
   "cell_type": "code",
   "execution_count": null,
   "id": "bc654b9e",
   "metadata": {},
   "outputs": [],
   "source": [
    "print('|\\_/|')\n",
    "print('|q p|   /}')\n",
    "print('( 0 )\"\"\"\\\\' )\n",
    "print('|\"^\"`    |')\n",
    "print('||_/=\\\\\\__|')\n",
    "\n",
    "# 아직 \" 이랑 \\ 쓰는 방법 익숙하지 않음"
   ]
  },
  {
   "cell_type": "markdown",
   "id": "5b7cb340",
   "metadata": {},
   "source": [
    "## 조건문"
   ]
  },
  {
   "cell_type": "markdown",
   "id": "5a6fb271",
   "metadata": {},
   "source": [
    "### 1330"
   ]
  },
  {
   "cell_type": "code",
   "execution_count": null,
   "id": "5e530f83",
   "metadata": {},
   "outputs": [],
   "source": [
    "a, b = input().split()\n",
    "\n",
    "while True:\n",
    "    if int(a) > int(b):\n",
    "        print('>')\n",
    "        break\n",
    "        \n",
    "    elif int(a) < int(b):\n",
    "        print('<')\n",
    "        break\n",
    "        \n",
    "    else:\n",
    "        print('==')\n",
    "        break"
   ]
  },
  {
   "cell_type": "markdown",
   "id": "cc03a00b",
   "metadata": {},
   "source": [
    "### 9498"
   ]
  },
  {
   "cell_type": "code",
   "execution_count": null,
   "id": "48108d26",
   "metadata": {},
   "outputs": [],
   "source": [
    "a = int(input())\n",
    "\n",
    "while True:\n",
    "    if 90 <= int(a) and int(a) <=100:\n",
    "        print('A')\n",
    "        \n",
    "    elif 80 <= int(a):\n",
    "        print('B')\n",
    "        \n",
    "    elif 70 <= int(a):\n",
    "        print('C')\n",
    "        \n",
    "    elif 60 <= int(a):\n",
    "        print('D')\n",
    "    \n",
    "    else:\n",
    "        print('F')\n",
    "    \n",
    "    break"
   ]
  },
  {
   "cell_type": "markdown",
   "id": "e8edb8eb",
   "metadata": {},
   "source": [
    "### 2753"
   ]
  },
  {
   "cell_type": "code",
   "execution_count": null,
   "id": "794113bd",
   "metadata": {},
   "outputs": [],
   "source": [
    "a = int(input())\n",
    "\n",
    "if a%4 == 0 and a%100 != 0 or a%400 == 0:\n",
    "    print('1')\n",
    "\n",
    "else: \n",
    "    print('0')"
   ]
  },
  {
   "cell_type": "markdown",
   "id": "c2c627d6",
   "metadata": {},
   "source": [
    "### 14681"
   ]
  },
  {
   "cell_type": "code",
   "execution_count": null,
   "id": "5c6bd1c9",
   "metadata": {},
   "outputs": [],
   "source": [
    "x= input()\n",
    "y = input()\n",
    "x = int(x)\n",
    "y = int(y)\n",
    "\n",
    "if x > 0 and y > 0: \n",
    "    print('1')\n",
    "if x < 0 and y > 0: \n",
    "    print('2')\n",
    "if x > 0 and y < 0: \n",
    "    print('4')\n",
    "if x < 0 and y < 0: \n",
    "    print('3')"
   ]
  },
  {
   "cell_type": "markdown",
   "id": "dcc7d46c",
   "metadata": {},
   "source": [
    "### 2884"
   ]
  },
  {
   "cell_type": "code",
   "execution_count": null,
   "id": "55b3a026",
   "metadata": {},
   "outputs": [],
   "source": [
    "h, m = input().split()\n",
    "h = int(h)\n",
    "m = int(m)\n",
    "\n",
    "if h != 0:\n",
    "    if m >= 45:\n",
    "        m = m - 45\n",
    "    else:\n",
    "        h = h - 1\n",
    "        m = m + 60 - 45\n",
    "else:\n",
    "    if m >= 45:\n",
    "        m = m - 45\n",
    "    else:\n",
    "        h = 23\n",
    "        m = m + 60 - 45\n",
    "        \n",
    "        \n",
    "print(h, m)"
   ]
  },
  {
   "cell_type": "markdown",
   "id": "33827bca",
   "metadata": {},
   "source": [
    "### 2525"
   ]
  },
  {
   "cell_type": "code",
   "execution_count": null,
   "id": "467d5444",
   "metadata": {},
   "outputs": [],
   "source": [
    "a, b = input().split()\n",
    "c = int(input())\n",
    "a = int(a)\n",
    "b = int(b)\n",
    "\n",
    "t = 60 * a + b\n",
    "t = t + c\n",
    "\n",
    "if t >= 24*60:\n",
    "    t = t - 24*60\n",
    "    \n",
    "print(t//60, t%60)"
   ]
  },
  {
   "cell_type": "markdown",
   "id": "2e97bc74",
   "metadata": {},
   "source": [
    "### 2480"
   ]
  },
  {
   "cell_type": "code",
   "execution_count": null,
   "id": "1ac6e99f",
   "metadata": {},
   "outputs": [],
   "source": [
    "a, b, c = input().split()\n",
    "a = int(a)\n",
    "b = int(b)\n",
    "c = int(c)\n",
    "\n",
    "if a == b and b==c:\n",
    "    print(10000 + a * 1000)\n",
    "    \n",
    "elif a==b or b==c or a==c:\n",
    "    if a==b or a==c:\n",
    "        print(1000 + a * 100)\n",
    "    else:\n",
    "        print(1000 + b * 100)\n",
    "        \n",
    "else:\n",
    "    print(max(a, b, c) * 100)"
   ]
  },
  {
   "cell_type": "markdown",
   "id": "4b37cdd1",
   "metadata": {},
   "source": [
    "## 반복문"
   ]
  },
  {
   "cell_type": "markdown",
   "id": "a610a5c9",
   "metadata": {},
   "source": [
    "### 2739"
   ]
  },
  {
   "cell_type": "code",
   "execution_count": null,
   "id": "28c2db66",
   "metadata": {
    "scrolled": true
   },
   "outputs": [],
   "source": [
    "a = int(input())\n",
    "\n",
    "for i in range(1, 10):\n",
    "    print('{} * {} = {}'.format(a, i, a*i))"
   ]
  },
  {
   "cell_type": "markdown",
   "id": "68bcd54b",
   "metadata": {},
   "source": [
    "### 10950"
   ]
  },
  {
   "cell_type": "code",
   "execution_count": null,
   "id": "be3f0f0d",
   "metadata": {},
   "outputs": [],
   "source": [
    "n = int(input())\n",
    "a = []\n",
    "b = []\n",
    "\n",
    "for i in range(n):\n",
    "    temp1, temp2 = input().split()\n",
    "    a.append(int(temp1))\n",
    "    b.append(int(temp2))\n",
    "\n",
    "for i in range(n):\n",
    "    print(a[i] + b[i])"
   ]
  },
  {
   "cell_type": "markdown",
   "id": "521bb71e",
   "metadata": {},
   "source": [
    "### 8393"
   ]
  },
  {
   "cell_type": "code",
   "execution_count": null,
   "id": "628b23c9",
   "metadata": {},
   "outputs": [],
   "source": [
    "n = int(input())\n",
    "sum_ = 0\n",
    "\n",
    "for i in range(n+1):\n",
    "    sum_ = sum_ + i\n",
    "\n",
    "print(sum_)"
   ]
  },
  {
   "cell_type": "markdown",
   "id": "701e6126",
   "metadata": {},
   "source": [
    "### 25304 영수증"
   ]
  },
  {
   "cell_type": "code",
   "execution_count": null,
   "id": "ec3f64e5",
   "metadata": {},
   "outputs": [],
   "source": [
    "x = int(input())\n",
    "n = int(input())\n",
    "price = []\n",
    "b = []\n",
    "total = 0\n",
    "\n",
    "for i in range(n):\n",
    "    temp1, temp2 = input().split()\n",
    "    price.append(int(temp1))\n",
    "    b.append(int(temp2))\n",
    "\n",
    "for i in range(n):\n",
    "    total = total + price[i] * b[i]\n",
    "    \n",
    "if total == x:\n",
    "    print('Yes')\n",
    "    \n",
    "else:\n",
    "    print('No')"
   ]
  },
  {
   "cell_type": "markdown",
   "id": "911f06bd",
   "metadata": {},
   "source": [
    "### [ 25314 ] 코딩은 체육과목입니다"
   ]
  },
  {
   "cell_type": "code",
   "execution_count": null,
   "id": "34424bd9",
   "metadata": {},
   "outputs": [],
   "source": [
    "n = int(input())\n",
    "\n",
    "while n >= 4:\n",
    "    if n==4:\n",
    "        print('long int')\n",
    "        break\n",
    "    else:\n",
    "        n = n-4\n",
    "        print('long ', end='')    "
   ]
  },
  {
   "cell_type": "markdown",
   "id": "6badefef",
   "metadata": {},
   "source": [
    "### [ 15552 ] 빠른 A+B - Q (복붙으로 때움)"
   ]
  },
  {
   "cell_type": "code",
   "execution_count": null,
   "id": "75bdf3dd",
   "metadata": {},
   "outputs": [],
   "source": [
    "# import sys  # sys모듈 읽어들이기\n",
    "\n",
    "# t = int(sys.stdin.readline())\n",
    "\n",
    "# for _ in range(t):\n",
    "#     a,b = map(int, sys.stdin.readline().split())\n",
    "#     print(a+b)"
   ]
  },
  {
   "cell_type": "markdown",
   "id": "fc44ee76",
   "metadata": {},
   "source": [
    "### [ 11021 ] A+B-7"
   ]
  },
  {
   "cell_type": "code",
   "execution_count": null,
   "id": "3187ed5f",
   "metadata": {},
   "outputs": [],
   "source": [
    "n = int(input())\n",
    "a = []\n",
    "b =[]\n",
    "\n",
    "for i in range(n):\n",
    "    temp1, temp2 = input().split()\n",
    "    a.append(int(temp1))\n",
    "    b.append(int(temp2))\n",
    "    \n",
    "for i in range(0, n):\n",
    "    print('Case #{}: {}'.format(i+1, a[i]+b[i]))"
   ]
  },
  {
   "cell_type": "markdown",
   "id": "f92b387f",
   "metadata": {},
   "source": [
    "### [ 11022 ] A+B-8"
   ]
  },
  {
   "cell_type": "code",
   "execution_count": null,
   "id": "4b9d5533",
   "metadata": {},
   "outputs": [],
   "source": [
    "n = int(input())\n",
    "a = []\n",
    "b =[]\n",
    "\n",
    "for i in range(n):\n",
    "    temp1, temp2 = input().split()\n",
    "    a.append(int(temp1))\n",
    "    b.append(int(temp2))\n",
    "    \n",
    "for i in range(0, n):\n",
    "    print('Case #{}: {} + {} = {}'.format(i+1, a[i], b[i], a[i]+b[i]))"
   ]
  },
  {
   "cell_type": "markdown",
   "id": "e5e74304",
   "metadata": {},
   "source": [
    "### [ 2438 ] 별 찍기 - 1"
   ]
  },
  {
   "cell_type": "code",
   "execution_count": null,
   "id": "998df181",
   "metadata": {},
   "outputs": [],
   "source": [
    "n = int(input())\n",
    "\n",
    "for i in range(1, n+1):\n",
    "    if i < n:\n",
    "        print(' ' * (n-i), end='')\n",
    "    print('*' * i)"
   ]
  },
  {
   "cell_type": "markdown",
   "id": "0514068e",
   "metadata": {},
   "source": [
    "### [ 10952 ] A+B-5"
   ]
  },
  {
   "cell_type": "code",
   "execution_count": null,
   "id": "f62289ff",
   "metadata": {},
   "outputs": [],
   "source": [
    "a = []\n",
    "b =[]\n",
    "\n",
    "while True:\n",
    "    temp1, temp2 = input().split()\n",
    "    if int(temp1) == 0:\n",
    "        break\n",
    "    a.append(int(temp1))\n",
    "    b.append(int(temp2))\n",
    "    \n",
    "for i in range(len(a)):\n",
    "    print(a[i]+b[i])"
   ]
  },
  {
   "cell_type": "markdown",
   "id": "0091c5a1",
   "metadata": {},
   "source": [
    "### [ 10951 ] A+B-4"
   ]
  },
  {
   "cell_type": "code",
   "execution_count": null,
   "id": "6892d6ed",
   "metadata": {},
   "outputs": [],
   "source": [
    "while True:\n",
    "    try:\n",
    "#         temp1, temp2 = input().split()\n",
    "#         print(int(temp1) + int(temp2))\n",
    "        a, b = map(int, input().split())\n",
    "        print(a+b)\n",
    "    except:\n",
    "        break\n",
    "        \n",
    "\n",
    "# 입력이 끝나지 않을 때 -> try, except 구문 활용하기!\n",
    "\n",
    "# map으로 여러 개 str input을 int로 바꾸기! \n",
    "    # map(적용할 함수, 적용할 인수): 인수를 함수에 넣은 결과를 map 객체 형태(?)로 출력\n",
    "    # 위 형태로 작성하니까 코드 수행 자체가 안 돼"
   ]
  },
  {
   "cell_type": "markdown",
   "id": "9077f060",
   "metadata": {},
   "source": [
    "## 1차원 배열"
   ]
  },
  {
   "cell_type": "markdown",
   "id": "cd643bcc",
   "metadata": {},
   "source": [
    "### [ 10807 ] 개수 세기"
   ]
  },
  {
   "cell_type": "code",
   "execution_count": null,
   "id": "7db055ef",
   "metadata": {},
   "outputs": [],
   "source": [
    "n = int(input())\n",
    "a = map(int, input().split())\n",
    "v = int(input())\n",
    "tot = 0\n",
    "\n",
    "for i in a:\n",
    "    if v == i:\n",
    "        tot = tot + 1\n",
    "        \n",
    "print(tot)"
   ]
  },
  {
   "cell_type": "markdown",
   "id": "280a8ed3",
   "metadata": {},
   "source": [
    "### [ 10871 ] X보다 작은 수"
   ]
  },
  {
   "cell_type": "code",
   "execution_count": null,
   "id": "b58e3225",
   "metadata": {},
   "outputs": [],
   "source": [
    "n, x = input().split()\n",
    "n = int(n)\n",
    "x = int(x)\n",
    "a = input().split()\n",
    "ans = []\n",
    "\n",
    "for i in range(n):\n",
    "    if int(a[i]) < x:\n",
    "        ans.append(a[i])\n",
    "\n",
    "for i in range(len(ans)):\n",
    "    print(ans[i], end = ' ')"
   ]
  },
  {
   "cell_type": "markdown",
   "id": "dae68e5a",
   "metadata": {},
   "source": [
    "### [ 10818 ] 최소, 최대"
   ]
  },
  {
   "cell_type": "code",
   "execution_count": null,
   "id": "e5ecea30",
   "metadata": {},
   "outputs": [],
   "source": [
    "n = int(input())\n",
    "max_ = -1000000\n",
    "min_ = 1000000\n",
    "\n",
    "a = input().split()\n",
    "\n",
    "for i in range(n):\n",
    "    if int(a[i]) > max_:\n",
    "        max_ = int(a[i])\n",
    "        \n",
    "    if int(a[i]) < min_:\n",
    "        min_ = int(a[i])\n",
    "        \n",
    "print(min_, max_)\n",
    "        "
   ]
  },
  {
   "cell_type": "markdown",
   "id": "9aa6e349",
   "metadata": {},
   "source": [
    "### [ 2562 ] 최댓값"
   ]
  },
  {
   "cell_type": "code",
   "execution_count": null,
   "id": "887176e0",
   "metadata": {},
   "outputs": [],
   "source": [
    "max_ = 0\n",
    "num = 0\n",
    "\n",
    "for i in range(9):\n",
    "    a = int(input())\n",
    "    if a > max_:\n",
    "        max_ = a\n",
    "        num = i+1\n",
    "\n",
    "print(max_)\n",
    "print(num)"
   ]
  },
  {
   "cell_type": "markdown",
   "id": "378d10fc",
   "metadata": {},
   "source": [
    "### [ 10810 ] 공 넣기"
   ]
  },
  {
   "cell_type": "code",
   "execution_count": null,
   "id": "4d42f26f",
   "metadata": {},
   "outputs": [],
   "source": [
    "n, m = input().split()\n",
    "n = int(n)\n",
    "m = int(m)\n",
    "arr = [0]*n\n",
    "\n",
    "for X in range(m):\n",
    "    temp1, temp2, temp3 = input().split()\n",
    "    i = int(temp1)\n",
    "    j = int(temp2)\n",
    "    k = int(temp3)\n",
    "    \n",
    "    for Y in range(i-1, j):\n",
    "        arr[Y] = k\n",
    "\n",
    "for x in range(n):\n",
    "    print(arr[x], end = ' ')"
   ]
  },
  {
   "cell_type": "markdown",
   "id": "580a8b0b",
   "metadata": {},
   "source": [
    "### [10813] 공 바꾸기"
   ]
  },
  {
   "cell_type": "code",
   "execution_count": null,
   "id": "7200c7be",
   "metadata": {},
   "outputs": [],
   "source": [
    "n, m = input().split()\n",
    "n = int(n)\n",
    "m = int(m)\n",
    "arr = [i for i in range(1,n+1)]\n",
    "\n",
    "for X in range(m):\n",
    "    temp1, temp2 = input().split()\n",
    "    i = int(temp1)\n",
    "    j = int(temp2)\n",
    "    \n",
    "    temp = arr[i-1]\n",
    "    arr[i-1] = arr[j-1]\n",
    "    arr[j-1] = temp\n",
    "\n",
    "for x in range(n):\n",
    "    print(arr[x], end = ' ')"
   ]
  },
  {
   "cell_type": "markdown",
   "id": "ece37e70",
   "metadata": {},
   "source": [
    "### [5597] 과제 안 내신 분..?"
   ]
  },
  {
   "cell_type": "code",
   "execution_count": null,
   "id": "ee40420b",
   "metadata": {},
   "outputs": [],
   "source": [
    "arr = [int(input()) for _ in range(28)]\n",
    "\n",
    "for i in range(1,30+1):\n",
    "    if i not in arr:\n",
    "        print(i)"
   ]
  },
  {
   "cell_type": "markdown",
   "id": "8d3ae64e",
   "metadata": {},
   "source": [
    "### [3052] 나머지"
   ]
  },
  {
   "cell_type": "code",
   "execution_count": null,
   "id": "ed0b6349",
   "metadata": {},
   "outputs": [],
   "source": [
    "arr = [-1]*42\n",
    "count = 0\n",
    "\n",
    "for i in range(10):\n",
    "    num = int(input())\n",
    "    num = num%42\n",
    "    if arr[num] == -1:\n",
    "        arr[num] = num\n",
    "        count += 1\n",
    "        \n",
    "print(count)"
   ]
  },
  {
   "cell_type": "markdown",
   "id": "f32bf41a",
   "metadata": {},
   "source": [
    "### [10811] 바구니 뒤집기"
   ]
  },
  {
   "cell_type": "code",
   "execution_count": null,
   "id": "4d159bcc",
   "metadata": {},
   "outputs": [],
   "source": [
    "n, m = input().split()\n",
    "n = int(n)\n",
    "m = int(m)\n",
    "arr = [i for i in range(1,n+1)]\n",
    "\n",
    "for X in range(m):\n",
    "    i,j = map(int, input().split()) # 이 함수 익숙해지기 :: 띄어쓰기 정수화 후 입력\n",
    "    temp = arr[i-1:j]\n",
    "    temp.reverse() # reverse() :: empty ()\n",
    "    arr[i-1:j] = temp\n",
    "    \n",
    "for x in range(n):\n",
    "    print(arr[x], end = ' ')"
   ]
  },
  {
   "cell_type": "markdown",
   "id": "689eae1a",
   "metadata": {},
   "source": [
    "### [1546] 평균"
   ]
  },
  {
   "cell_type": "code",
   "execution_count": null,
   "id": "430533de",
   "metadata": {},
   "outputs": [],
   "source": [
    "total = 0\n",
    "n = int(input())\n",
    "data = list(map(float, input().split())) #map 객체 -> list 객체!\n",
    "\n",
    "for score in data:\n",
    "    max_score = max(data)\n",
    "    score = score/max_score*100\n",
    "    total += score\n",
    "    \n",
    "print(total/n)"
   ]
  },
  {
   "cell_type": "markdown",
   "id": "63eb9730",
   "metadata": {},
   "source": [
    "## 문자열"
   ]
  },
  {
   "cell_type": "markdown",
   "id": "c7b2b642",
   "metadata": {},
   "source": [
    "### [27866] 문자와 문자열"
   ]
  },
  {
   "cell_type": "code",
   "execution_count": null,
   "id": "54f7e68b",
   "metadata": {},
   "outputs": [],
   "source": [
    "word = input()\n",
    "n = int(input())\n",
    "print(word[n-1]) #그냥 출력하면 'r' vs print함수에 넣으면 r"
   ]
  },
  {
   "cell_type": "markdown",
   "id": "bde154e9",
   "metadata": {},
   "source": [
    "### [2743] 단어 길이 재기"
   ]
  },
  {
   "cell_type": "code",
   "execution_count": null,
   "id": "4dd13d1a",
   "metadata": {},
   "outputs": [],
   "source": [
    "print(len(input()))"
   ]
  },
  {
   "cell_type": "markdown",
   "id": "9a73b024",
   "metadata": {},
   "source": [
    "### [9086] 문자열"
   ]
  },
  {
   "cell_type": "code",
   "execution_count": null,
   "id": "8a5881da",
   "metadata": {},
   "outputs": [],
   "source": [
    "n = int(input())\n",
    "result = ['']*n\n",
    "for i in range(n):\n",
    "    word = input()\n",
    "    result[i] = word[0]+word[len(word)-1]\n",
    "\n",
    "for element in result:\n",
    "    print(element)"
   ]
  },
  {
   "cell_type": "markdown",
   "id": "c6512f53",
   "metadata": {},
   "source": [
    "### [11654] 아스키코드"
   ]
  },
  {
   "cell_type": "code",
   "execution_count": null,
   "id": "a2b64722",
   "metadata": {},
   "outputs": [],
   "source": [
    "print(ord(input())) #ord 아스키코드 함수"
   ]
  },
  {
   "cell_type": "markdown",
   "id": "4cf1fb3d",
   "metadata": {},
   "source": [
    "### 11720 숫자의 합"
   ]
  },
  {
   "cell_type": "code",
   "execution_count": null,
   "id": "78f247cf",
   "metadata": {},
   "outputs": [],
   "source": [
    "total = 0\n",
    "n = int(input())\n",
    "number = input()\n",
    "\n",
    "for i in range(n):\n",
    "    total += int(number[i]) # /10 나누는 식으로 가면 int범위 넘어가는 수 수용 불가\n",
    "    \n",
    "print(total)"
   ]
  },
  {
   "cell_type": "markdown",
   "id": "e2066f51",
   "metadata": {},
   "source": [
    "### 10809 알파벳 찾기"
   ]
  },
  {
   "cell_type": "code",
   "execution_count": 21,
   "id": "02902026",
   "metadata": {},
   "outputs": [
    {
     "name": "stdout",
     "output_type": "stream",
     "text": [
      "baekjoon\n",
      "1 0 -1 -1 2 -1 -1 -1 -1 4 3 -1 -1 7 5 -1 -1 -1 -1 -1 -1 -1 -1 -1 -1 -1 "
     ]
    }
   ],
   "source": [
    "word = input()\n",
    "letter = ['a', 'b', 'c','d','e','f','g','h','i','j','k','l','m','n','o','p',\n",
    "         'q','r','s','t','u','v','w','x','y','z']\n",
    "\n",
    "result = [-1]*26\n",
    "for i in range(len(word)):\n",
    "    if word[i] in letter:\n",
    "        if result[letter.index(word[i])] == -1:\n",
    "            result[letter.index(word[i])] = i\n",
    "\n",
    "for element in result:\n",
    "    print(element, end=' ') "
   ]
  },
  {
   "cell_type": "markdown",
   "id": "3cae4d53",
   "metadata": {},
   "source": [
    "### 2675 문자열 반복"
   ]
  },
  {
   "cell_type": "code",
   "execution_count": 19,
   "id": "f5f5840e",
   "metadata": {
    "scrolled": true
   },
   "outputs": [
    {
     "name": "stdout",
     "output_type": "stream",
     "text": [
      "2\n",
      "3 ABC\n",
      "5 /HTP\n",
      "AAABBBCCC\n",
      "/////HHHHHTTTTTPPPPP\n"
     ]
    }
   ],
   "source": [
    "n = int(input())\n",
    "result=['']*n\n",
    "\n",
    "for i in range(n): #for _ in range 익숙해지기, 변수 지정 최소화하기\n",
    "    a, word = input().split()\n",
    "    a = int(a)\n",
    "    for k in range(len(word)):\n",
    "        result[i] += word[k]*a\n",
    "\n",
    "for i in range(n):\n",
    "    print(result[i])"
   ]
  },
  {
   "cell_type": "markdown",
   "id": "0c3f6ece",
   "metadata": {},
   "source": [
    "### 1152 단어의 개수"
   ]
  },
  {
   "cell_type": "code",
   "execution_count": 23,
   "id": "efebbd35",
   "metadata": {},
   "outputs": [
    {
     "name": "stdout",
     "output_type": "stream",
     "text": [
      "in put hal\n",
      "3\n"
     ]
    }
   ],
   "source": [
    "print(len(input().split()))"
   ]
  },
  {
   "cell_type": "markdown",
   "id": "d0458ee2",
   "metadata": {},
   "source": [
    "### 2908 상수"
   ]
  },
  {
   "cell_type": "code",
   "execution_count": 38,
   "id": "c6a09ea3",
   "metadata": {},
   "outputs": [
    {
     "name": "stdout",
     "output_type": "stream",
     "text": [
      "123 456\n",
      "654\n"
     ]
    }
   ],
   "source": [
    "# splicing 개념 체화하기\n",
    "# 역순 ::-1 익숙해지기\n",
    "\n",
    "a, b = input().split()\n",
    "A = int(a[::-1])\n",
    "B = int(b[::-1])\n",
    "\n",
    "print(A if A>B else B)\n"
   ]
  },
  {
   "cell_type": "markdown",
   "id": "98c79ece",
   "metadata": {},
   "source": [
    "### 5622 다이얼"
   ]
  },
  {
   "cell_type": "code",
   "execution_count": 40,
   "id": "095c7056",
   "metadata": {},
   "outputs": [
    {
     "name": "stdout",
     "output_type": "stream",
     "text": [
      "UNUCIC\n",
      "36\n"
     ]
    }
   ],
   "source": [
    "# 문자열을 array에 넣어 축약 가능함\n",
    "total = 0\n",
    "word = input() \n",
    "for letter in word:\n",
    "    if letter in 'ABC':\n",
    "        total += 3\n",
    "    if letter in 'DEF':\n",
    "        total += 4\n",
    "    if letter in 'GHI':\n",
    "        total += 5\n",
    "    if letter in 'JKL':\n",
    "        total += 6\n",
    "    if letter in 'MNO':\n",
    "        total += 7\n",
    "    if letter in 'PQRS':\n",
    "        total += 8\n",
    "    if letter in 'TUV':\n",
    "        total += 9\n",
    "    if letter in 'WXYZ':\n",
    "        total += 10\n",
    "print(total)"
   ]
  },
  {
   "cell_type": "markdown",
   "id": "a4053f8e",
   "metadata": {},
   "source": [
    "### 11718 그대로 출력하기 [Q]"
   ]
  },
  {
   "cell_type": "code",
   "execution_count": 44,
   "id": "589779a1",
   "metadata": {
    "collapsed": true
   },
   "outputs": [
    {
     "name": "stdout",
     "output_type": "stream",
     "text": [
      "print\n",
      "print\n",
      "hello\n",
      "hello\n",
      "stop\n",
      "stop\n",
      "\n",
      "\n"
     ]
    },
    {
     "ename": "KeyboardInterrupt",
     "evalue": "Interrupted by user",
     "output_type": "error",
     "traceback": [
      "\u001b[1;31m---------------------------------------------------------------------------\u001b[0m",
      "\u001b[1;31mKeyboardInterrupt\u001b[0m                         Traceback (most recent call last)",
      "Input \u001b[1;32mIn [44]\u001b[0m, in \u001b[0;36m<cell line: 3>\u001b[1;34m()\u001b[0m\n\u001b[0;32m      2\u001b[0m \u001b[38;5;28;01mwhile\u001b[39;00m \u001b[38;5;28;01mTrue\u001b[39;00m:\n\u001b[0;32m      3\u001b[0m     \u001b[38;5;28;01mtry\u001b[39;00m:\n\u001b[1;32m----> 4\u001b[0m         \u001b[38;5;28mprint\u001b[39m(\u001b[38;5;28;43minput\u001b[39;49m\u001b[43m(\u001b[49m\u001b[43m)\u001b[49m)\n\u001b[0;32m      5\u001b[0m     \u001b[38;5;28;01mexcept\u001b[39;00m \u001b[38;5;167;01mEOFError\u001b[39;00m:\n\u001b[0;32m      6\u001b[0m         \u001b[38;5;28;01mbreak\u001b[39;00m\n",
      "File \u001b[1;32m~\\anaconda3\\lib\\site-packages\\ipykernel\\kernelbase.py:1075\u001b[0m, in \u001b[0;36mKernel.raw_input\u001b[1;34m(self, prompt)\u001b[0m\n\u001b[0;32m   1071\u001b[0m \u001b[38;5;28;01mif\u001b[39;00m \u001b[38;5;129;01mnot\u001b[39;00m \u001b[38;5;28mself\u001b[39m\u001b[38;5;241m.\u001b[39m_allow_stdin:\n\u001b[0;32m   1072\u001b[0m     \u001b[38;5;28;01mraise\u001b[39;00m StdinNotImplementedError(\n\u001b[0;32m   1073\u001b[0m         \u001b[38;5;124m\"\u001b[39m\u001b[38;5;124mraw_input was called, but this frontend does not support input requests.\u001b[39m\u001b[38;5;124m\"\u001b[39m\n\u001b[0;32m   1074\u001b[0m     )\n\u001b[1;32m-> 1075\u001b[0m \u001b[38;5;28;01mreturn\u001b[39;00m \u001b[38;5;28;43mself\u001b[39;49m\u001b[38;5;241;43m.\u001b[39;49m\u001b[43m_input_request\u001b[49m\u001b[43m(\u001b[49m\n\u001b[0;32m   1076\u001b[0m \u001b[43m    \u001b[49m\u001b[38;5;28;43mstr\u001b[39;49m\u001b[43m(\u001b[49m\u001b[43mprompt\u001b[49m\u001b[43m)\u001b[49m\u001b[43m,\u001b[49m\n\u001b[0;32m   1077\u001b[0m \u001b[43m    \u001b[49m\u001b[38;5;28;43mself\u001b[39;49m\u001b[38;5;241;43m.\u001b[39;49m\u001b[43m_parent_ident\u001b[49m\u001b[43m[\u001b[49m\u001b[38;5;124;43m\"\u001b[39;49m\u001b[38;5;124;43mshell\u001b[39;49m\u001b[38;5;124;43m\"\u001b[39;49m\u001b[43m]\u001b[49m\u001b[43m,\u001b[49m\n\u001b[0;32m   1078\u001b[0m \u001b[43m    \u001b[49m\u001b[38;5;28;43mself\u001b[39;49m\u001b[38;5;241;43m.\u001b[39;49m\u001b[43mget_parent\u001b[49m\u001b[43m(\u001b[49m\u001b[38;5;124;43m\"\u001b[39;49m\u001b[38;5;124;43mshell\u001b[39;49m\u001b[38;5;124;43m\"\u001b[39;49m\u001b[43m)\u001b[49m\u001b[43m,\u001b[49m\n\u001b[0;32m   1079\u001b[0m \u001b[43m    \u001b[49m\u001b[43mpassword\u001b[49m\u001b[38;5;241;43m=\u001b[39;49m\u001b[38;5;28;43;01mFalse\u001b[39;49;00m\u001b[43m,\u001b[49m\n\u001b[0;32m   1080\u001b[0m \u001b[43m\u001b[49m\u001b[43m)\u001b[49m\n",
      "File \u001b[1;32m~\\anaconda3\\lib\\site-packages\\ipykernel\\kernelbase.py:1120\u001b[0m, in \u001b[0;36mKernel._input_request\u001b[1;34m(self, prompt, ident, parent, password)\u001b[0m\n\u001b[0;32m   1117\u001b[0m             \u001b[38;5;28;01mbreak\u001b[39;00m\n\u001b[0;32m   1118\u001b[0m \u001b[38;5;28;01mexcept\u001b[39;00m \u001b[38;5;167;01mKeyboardInterrupt\u001b[39;00m:\n\u001b[0;32m   1119\u001b[0m     \u001b[38;5;66;03m# re-raise KeyboardInterrupt, to truncate traceback\u001b[39;00m\n\u001b[1;32m-> 1120\u001b[0m     \u001b[38;5;28;01mraise\u001b[39;00m \u001b[38;5;167;01mKeyboardInterrupt\u001b[39;00m(\u001b[38;5;124m\"\u001b[39m\u001b[38;5;124mInterrupted by user\u001b[39m\u001b[38;5;124m\"\u001b[39m) \u001b[38;5;28;01mfrom\u001b[39;00m \u001b[38;5;28mNone\u001b[39m\n\u001b[0;32m   1121\u001b[0m \u001b[38;5;28;01mexcept\u001b[39;00m \u001b[38;5;167;01mException\u001b[39;00m:\n\u001b[0;32m   1122\u001b[0m     \u001b[38;5;28mself\u001b[39m\u001b[38;5;241m.\u001b[39mlog\u001b[38;5;241m.\u001b[39mwarning(\u001b[38;5;124m\"\u001b[39m\u001b[38;5;124mInvalid Message:\u001b[39m\u001b[38;5;124m\"\u001b[39m, exc_info\u001b[38;5;241m=\u001b[39m\u001b[38;5;28;01mTrue\u001b[39;00m)\n",
      "\u001b[1;31mKeyboardInterrupt\u001b[0m: Interrupted by user"
     ]
    }
   ],
   "source": [
    "# Q: 문제 이해 부족\n",
    "# try-except 구문 활용도\n",
    "while True:\n",
    "    try:\n",
    "        print(input())\n",
    "    except EOFError:\n",
    "        break\n",
    "\n",
    "\n",
    "# i = 0\n",
    "# while input() != 'EOF':\n",
    "#     i += 1\n",
    "#     result[i] = input()\n",
    "\n",
    "# for x in range(i): \n",
    "#     print(result[x])"
   ]
  },
  {
   "cell_type": "markdown",
   "id": "e248db25",
   "metadata": {},
   "source": [
    "## 심화 1"
   ]
  },
  {
   "cell_type": "markdown",
   "id": "2d503502",
   "metadata": {},
   "source": [
    "### 3003 킹, 퀸, 룩, 비숍, 나이트, 폰"
   ]
  },
  {
   "cell_type": "code",
   "execution_count": 53,
   "id": "f510f810",
   "metadata": {},
   "outputs": [
    {
     "name": "stdout",
     "output_type": "stream",
     "text": [
      "2 1 2 1 2 1\n",
      "-1 0 0 1 0 7 "
     ]
    }
   ],
   "source": [
    "obj = input().split() #체스 말의 수를 정해두면 되는구나 piece = [1,1,2,2,2,8]\n",
    "for i in range(6):\n",
    "    if i == 0 or i == 1:\n",
    "        print(1-int(obj[i]), end = ' ')\n",
    "    elif i == 2 or i == 3 or i == 4:\n",
    "        print(2-int(obj[i]), end = ' ')\n",
    "    else:\n",
    "        print(8-int(obj[i]), end = ' ')"
   ]
  },
  {
   "cell_type": "markdown",
   "id": "f55f8e1d",
   "metadata": {},
   "source": [
    "### 2444 별 찍기 - 7"
   ]
  },
  {
   "cell_type": "code",
   "execution_count": 62,
   "id": "885adb04",
   "metadata": {},
   "outputs": [
    {
     "name": "stdout",
     "output_type": "stream",
     "text": [
      "5\n",
      "    *\n",
      "   ***\n",
      "  *****\n",
      " *******\n",
      "*********\n",
      " *******\n",
      "  *****\n",
      "   ***\n",
      "    *\n"
     ]
    }
   ],
   "source": [
    "n = int(input()) # 뒤에 공백 없는지 확인하기!\n",
    "\n",
    "for i in range(1, n):\n",
    "    print(' '*(n-i)+'*'*(2*i-1))\n",
    "print('*'*(2*n-1))\n",
    "for j in range(n-1, 0, -1):\n",
    "    print(' '*(n-j)+'*'*(2*j-1))"
   ]
  },
  {
   "cell_type": "markdown",
   "id": "3eeab6ee",
   "metadata": {},
   "source": [
    "### 10988 팰린드롬 확인하기"
   ]
  },
  {
   "cell_type": "code",
   "execution_count": 90,
   "id": "c34a1a48",
   "metadata": {},
   "outputs": [
    {
     "name": "stdout",
     "output_type": "stream",
     "text": [
      "word\n",
      "0\n",
      "['w', 'o', 'r', 'd']\n",
      "['d', 'r', 'o', 'w']\n"
     ]
    }
   ],
   "source": [
    "# list라면 언제든 reverse 사용할 수 있음을 기억\n",
    "# 거꾸로 <--> reverse() \n",
    "# reverse한 값을 바로 사용하고 싶다면 reversed(), list 사용 / reversed 객체 반환\n",
    "\n",
    "word = list(input())\n",
    "if word == list(reversed(word)):\n",
    "    print('1')\n",
    "else:\n",
    "    print('0')"
   ]
  },
  {
   "cell_type": "markdown",
   "id": "e82e06d2",
   "metadata": {},
   "source": [
    "### 1157 단어 공부 [!]"
   ]
  },
  {
   "cell_type": "code",
   "execution_count": 96,
   "id": "626a809e",
   "metadata": {},
   "outputs": [
    {
     "name": "stdout",
     "output_type": "stream",
     "text": [
      "missi\n",
      "?\n"
     ]
    }
   ],
   "source": [
    "# 중요\n",
    "# 출처: https://ooyoung.tistory.com/70\n",
    "# count 함수\n",
    "# 대소문자 신경 안 쓰면 upper/lower 사용하여 대문자/소문자로 통일\n",
    "\n",
    "words = input().upper()\n",
    "unique_words = list(set(words))\n",
    "\n",
    "cnt_list = []\n",
    "for x in unique_words:\n",
    "    cnt = words.count(x)\n",
    "    cnt_list.append(cnt)\n",
    "    \n",
    "if cnt_list.count(max(cnt_list)) > 1:\n",
    "    print('?')\n",
    "    \n",
    "else:\n",
    "    max_index = cnt_list.index(max(cnt_list))\n",
    "    print(unique_words[max_index])"
   ]
  },
  {
   "cell_type": "markdown",
   "id": "a671063e",
   "metadata": {},
   "source": [
    "### 2941 크로아티아 알파벳 "
   ]
  },
  {
   "cell_type": "code",
   "execution_count": 120,
   "id": "fa96bb56",
   "metadata": {},
   "outputs": [
    {
     "name": "stdout",
     "output_type": "stream",
     "text": [
      "c=c=\n",
      "2\n"
     ]
    }
   ],
   "source": [
    "known = ['c=', 'c-', 'dz=', 'd-', 'lj', 'nj', 's=', 'z=']\n",
    "count = 0\n",
    "i = 0\n",
    "\n",
    "alphabets = input()\n",
    "\n",
    "for _ in range(len(alphabets)):\n",
    "    if i >= len(alphabets):\n",
    "        break\n",
    "    if str(alphabets[i:i+2]) in known:\n",
    "        count += 1\n",
    "        i = i+2\n",
    "#         print(i, '+2')\n",
    "    elif str(alphabets[i:i+3]) in known:\n",
    "        count += 1\n",
    "        i = i+3\n",
    "#         print(i, '+3')\n",
    "    else:\n",
    "        count += 1\n",
    "        i = i+1\n",
    "#         print(i, '+1')\n",
    "print(count)\n",
    "\n",
    "\n",
    "# 출처: https://ooyoung.tistory.com/74\n",
    "# replace 함수 활용해서 더 쉽게 풀이 가능\n",
    "# 크로아티아 문자 찾아서 한글자 문자로 대체하고 word len 구하면 끝"
   ]
  },
  {
   "cell_type": "markdown",
   "id": "e98fc05a",
   "metadata": {},
   "source": [
    "### 1316 그룹단어 체커"
   ]
  },
  {
   "cell_type": "code",
   "execution_count": 17,
   "id": "d0d6649c",
   "metadata": {},
   "outputs": [
    {
     "name": "stdout",
     "output_type": "stream",
     "text": [
      "5\n",
      "ab\n",
      "aa\n",
      "aca\n",
      "ba\n",
      "bb\n",
      "4\n"
     ]
    }
   ],
   "source": [
    "# 출처: https://hyunsun99.tistory.com/142\n",
    "# 체크하는 단어가 뒤에도 등장하면 그룹단어가 아님 - splicing\n",
    "\n",
    "n = int(input())\n",
    "result = n\n",
    "\n",
    "for i in range(n):\n",
    "    word = input()\n",
    "    for j in range(len(word)-1):\n",
    "        if word[j]==word[j+1]:\n",
    "            continue\n",
    "        elif word[j] in word[j+1:]:\n",
    "            result -= 1\n",
    "            break\n",
    "\n",
    "print(result)\n",
    "\n",
    "# i = 0\n",
    "# num_word = 0\n",
    "# result = 0\n",
    "# n = int(input())\n",
    "\n",
    "# for i in range(n):\n",
    "#     word = input()\n",
    "#     original_word = list(word)\n",
    "#     unique_word = set(word) #set은 order 없어서 indexing 불가\n",
    "    \n",
    "#     print(original_word)\n",
    "#     print(unique_word)\n",
    "    \n",
    "#     for _ in range(len(unique_word)):\n",
    "#         while original_word[i] in unique_word:\n",
    "#             original_word[i] = 'C'\n",
    "#             unique_word.discard(original_word[i])\n",
    "            \n",
    "#             i+=1\n",
    "#             print(i)\n",
    "        \n",
    "#         print(i, original_word)\n",
    "#         print(i, unique_word)\n",
    "        \n",
    "#     if len(original_word) == 0:\n",
    "#         result += 1\n",
    "        \n",
    "# print(result)"
   ]
  },
  {
   "cell_type": "markdown",
   "id": "69b66d5f",
   "metadata": {},
   "source": [
    "### 25206 너의 평점은"
   ]
  },
  {
   "cell_type": "code",
   "execution_count": 31,
   "id": "e9c07864",
   "metadata": {
    "collapsed": true
   },
   "outputs": [
    {
     "name": "stdout",
     "output_type": "stream",
     "text": [
      "ObjectOrientedProgramming1 3.0 A+\n",
      "IntroductiontoComputerEngineering 3.0 A+\n",
      "ObjectOrientedProgramming2 3.0 A0\n",
      "CreativeComputerEngineeringDesign 3.0 A+\n",
      "AssemblyLanguage 3.0 A+\n",
      "InternetProgramming 3.0 B0\n",
      "ApplicationProgramminginJava 3.0 A0\n",
      "SystemProgramming 3.0 B0\n",
      "OperatingSystem 3.0 B0\n",
      "WirelessCommunicationsandNetworking 3.0 C+\n",
      "LogicCircuits 3.0 B0\n",
      "DataStructure 4.0 A+\n",
      "MicroprocessorApplication 3.0 B+\n",
      "EmbeddedSoftware 3.0 C0\n",
      "ComputerSecurity 3.0 D+\n",
      "Database 3.0 C+\n",
      "Algorithm 3.0 B0\n",
      "CapstoneDesigninCSE 3.0 B+\n",
      "CompilerDesign 3.0 D0\n",
      "ProblemSolving 4.0 P\n",
      "3.2844827586206895\n"
     ]
    }
   ],
   "source": [
    "# grade 효율적으로 입력하는 방법: list 만들어서 index로 대응시키기\n",
    "# 소수 표현 방법 익숙해지기\n",
    "\n",
    "grade_ref = ['A+','A0', 'B+', 'B0', 'C+', 'C0', 'D+', 'D0', 'F']\n",
    "score_ref = [4.5, 4.0, 3.5, 3.0, 2.5, 2.0, 1.5, 1.0, 0.0]\n",
    "\n",
    "subject = ['']*20\n",
    "credit = [0.0]*20\n",
    "grade = ['']*20\n",
    "\n",
    "total_credit = 0.0\n",
    "total_grade = 0.0\n",
    "total_score = 0.0\n",
    "\n",
    "for i in range(20):\n",
    "    subject[i], credit[i], grade[i] = input().split(' ')\n",
    "    if grade[i] == 'P':\n",
    "        continue\n",
    "    total_credit += float(credit[i])\n",
    "    total_score += score_ref[grade_ref.index(grade[i])]*float(credit[i])\n",
    "\n",
    "print('%.6f'%(total_score/total_credit))"
   ]
  },
  {
   "cell_type": "markdown",
   "id": "895e4bd3",
   "metadata": {},
   "source": [
    "## 2차원 배열"
   ]
  },
  {
   "cell_type": "markdown",
   "id": "7094c102",
   "metadata": {},
   "source": [
    "### 2738 행렬 덧셈"
   ]
  },
  {
   "cell_type": "code",
   "execution_count": 26,
   "id": "f2a5673f",
   "metadata": {
    "collapsed": true
   },
   "outputs": [
    {
     "ename": "KeyboardInterrupt",
     "evalue": "Interrupted by user",
     "output_type": "error",
     "traceback": [
      "\u001b[1;31m---------------------------------------------------------------------------\u001b[0m",
      "\u001b[1;31mKeyboardInterrupt\u001b[0m                         Traceback (most recent call last)",
      "Input \u001b[1;32mIn [26]\u001b[0m, in \u001b[0;36m<cell line: 2>\u001b[1;34m()\u001b[0m\n\u001b[0;32m      1\u001b[0m \u001b[38;5;66;03m# print() = enter -> print('\\n') = enter 2번\u001b[39;00m\n\u001b[1;32m----> 2\u001b[0m n, m \u001b[38;5;241m=\u001b[39m \u001b[38;5;28mmap\u001b[39m(\u001b[38;5;28mint\u001b[39m, \u001b[38;5;28;43minput\u001b[39;49m\u001b[43m(\u001b[49m\u001b[43m)\u001b[49m\u001b[38;5;241m.\u001b[39msplit())\n\u001b[0;32m      3\u001b[0m matrix1\u001b[38;5;241m=\u001b[39m []\n\u001b[0;32m      4\u001b[0m matrix2 \u001b[38;5;241m=\u001b[39m []\n",
      "File \u001b[1;32m~\\anaconda3\\lib\\site-packages\\ipykernel\\kernelbase.py:1075\u001b[0m, in \u001b[0;36mKernel.raw_input\u001b[1;34m(self, prompt)\u001b[0m\n\u001b[0;32m   1071\u001b[0m \u001b[38;5;28;01mif\u001b[39;00m \u001b[38;5;129;01mnot\u001b[39;00m \u001b[38;5;28mself\u001b[39m\u001b[38;5;241m.\u001b[39m_allow_stdin:\n\u001b[0;32m   1072\u001b[0m     \u001b[38;5;28;01mraise\u001b[39;00m StdinNotImplementedError(\n\u001b[0;32m   1073\u001b[0m         \u001b[38;5;124m\"\u001b[39m\u001b[38;5;124mraw_input was called, but this frontend does not support input requests.\u001b[39m\u001b[38;5;124m\"\u001b[39m\n\u001b[0;32m   1074\u001b[0m     )\n\u001b[1;32m-> 1075\u001b[0m \u001b[38;5;28;01mreturn\u001b[39;00m \u001b[38;5;28;43mself\u001b[39;49m\u001b[38;5;241;43m.\u001b[39;49m\u001b[43m_input_request\u001b[49m\u001b[43m(\u001b[49m\n\u001b[0;32m   1076\u001b[0m \u001b[43m    \u001b[49m\u001b[38;5;28;43mstr\u001b[39;49m\u001b[43m(\u001b[49m\u001b[43mprompt\u001b[49m\u001b[43m)\u001b[49m\u001b[43m,\u001b[49m\n\u001b[0;32m   1077\u001b[0m \u001b[43m    \u001b[49m\u001b[38;5;28;43mself\u001b[39;49m\u001b[38;5;241;43m.\u001b[39;49m\u001b[43m_parent_ident\u001b[49m\u001b[43m[\u001b[49m\u001b[38;5;124;43m\"\u001b[39;49m\u001b[38;5;124;43mshell\u001b[39;49m\u001b[38;5;124;43m\"\u001b[39;49m\u001b[43m]\u001b[49m\u001b[43m,\u001b[49m\n\u001b[0;32m   1078\u001b[0m \u001b[43m    \u001b[49m\u001b[38;5;28;43mself\u001b[39;49m\u001b[38;5;241;43m.\u001b[39;49m\u001b[43mget_parent\u001b[49m\u001b[43m(\u001b[49m\u001b[38;5;124;43m\"\u001b[39;49m\u001b[38;5;124;43mshell\u001b[39;49m\u001b[38;5;124;43m\"\u001b[39;49m\u001b[43m)\u001b[49m\u001b[43m,\u001b[49m\n\u001b[0;32m   1079\u001b[0m \u001b[43m    \u001b[49m\u001b[43mpassword\u001b[49m\u001b[38;5;241;43m=\u001b[39;49m\u001b[38;5;28;43;01mFalse\u001b[39;49;00m\u001b[43m,\u001b[49m\n\u001b[0;32m   1080\u001b[0m \u001b[43m\u001b[49m\u001b[43m)\u001b[49m\n",
      "File \u001b[1;32m~\\anaconda3\\lib\\site-packages\\ipykernel\\kernelbase.py:1120\u001b[0m, in \u001b[0;36mKernel._input_request\u001b[1;34m(self, prompt, ident, parent, password)\u001b[0m\n\u001b[0;32m   1117\u001b[0m             \u001b[38;5;28;01mbreak\u001b[39;00m\n\u001b[0;32m   1118\u001b[0m \u001b[38;5;28;01mexcept\u001b[39;00m \u001b[38;5;167;01mKeyboardInterrupt\u001b[39;00m:\n\u001b[0;32m   1119\u001b[0m     \u001b[38;5;66;03m# re-raise KeyboardInterrupt, to truncate traceback\u001b[39;00m\n\u001b[1;32m-> 1120\u001b[0m     \u001b[38;5;28;01mraise\u001b[39;00m \u001b[38;5;167;01mKeyboardInterrupt\u001b[39;00m(\u001b[38;5;124m\"\u001b[39m\u001b[38;5;124mInterrupted by user\u001b[39m\u001b[38;5;124m\"\u001b[39m) \u001b[38;5;28;01mfrom\u001b[39;00m \u001b[38;5;28mNone\u001b[39m\n\u001b[0;32m   1121\u001b[0m \u001b[38;5;28;01mexcept\u001b[39;00m \u001b[38;5;167;01mException\u001b[39;00m:\n\u001b[0;32m   1122\u001b[0m     \u001b[38;5;28mself\u001b[39m\u001b[38;5;241m.\u001b[39mlog\u001b[38;5;241m.\u001b[39mwarning(\u001b[38;5;124m\"\u001b[39m\u001b[38;5;124mInvalid Message:\u001b[39m\u001b[38;5;124m\"\u001b[39m, exc_info\u001b[38;5;241m=\u001b[39m\u001b[38;5;28;01mTrue\u001b[39;00m)\n",
      "\u001b[1;31mKeyboardInterrupt\u001b[0m: Interrupted by user"
     ]
    }
   ],
   "source": [
    "# print() = enter -> print('\\n') = enter 2번\n",
    "n, m = map(int, input().split())\n",
    "matrix1= []\n",
    "matrix2 = []\n",
    "result = [[0]*m]*n\n",
    "\n",
    "for i in range(n):\n",
    "    matrix1.append(list(map(int, input().split())))\n",
    "\n",
    "for i in range(n):\n",
    "    matrix2.append(list(map(int, input().split())))\n",
    "\n",
    "for i in range(n):\n",
    "    for j in range(m):\n",
    "        result[i][j] = matrix1[i][j] + matrix2[i][j]\n",
    "        print(result[i][j], end = ' ')\n",
    "    print('')\n",
    "\n",
    "# print(matrix1)\n",
    "# print(matrix2)\n",
    "# print(result)\n",
    "\n",
    "# for i in range(n): -> 이건 왜 결과가 안 나오는 걸까\n",
    "#     for j in range(m):\n",
    "#         print(i, j, result[i][j])\n",
    "#         print(result[i][j])"
   ]
  },
  {
   "cell_type": "markdown",
   "id": "4f6625ad",
   "metadata": {},
   "source": [
    "### 2566 최댓값"
   ]
  },
  {
   "cell_type": "code",
   "execution_count": 31,
   "id": "61aa0460",
   "metadata": {
    "collapsed": true
   },
   "outputs": [
    {
     "name": "stdout",
     "output_type": "stream",
     "text": [
      "1 1 1 1 1 1 1 1 1\n",
      "2 2 2 2 2 2 2 2\n",
      "3 3 3 3 3 3 3 3 3\n",
      "4 4 4 4 4 4 4 4 4\n",
      "5 5 5 5 5 5 5 5 5\n",
      "6 6 6 6 6 6 6 6 6\n",
      "7 7 7 7 7 7 7 7 7\n",
      "8 8 8 8 8 8 8 8 8\n",
      "9 9 9 9 9 9 9 9 100\n"
     ]
    },
    {
     "ename": "IndexError",
     "evalue": "list index out of range",
     "output_type": "error",
     "traceback": [
      "\u001b[1;31m---------------------------------------------------------------------------\u001b[0m",
      "\u001b[1;31mIndexError\u001b[0m                                Traceback (most recent call last)",
      "Input \u001b[1;32mIn [31]\u001b[0m, in \u001b[0;36m<cell line: 8>\u001b[1;34m()\u001b[0m\n\u001b[0;32m      8\u001b[0m \u001b[38;5;28;01mfor\u001b[39;00m i \u001b[38;5;129;01min\u001b[39;00m \u001b[38;5;28mrange\u001b[39m(\u001b[38;5;241m9\u001b[39m):\n\u001b[0;32m      9\u001b[0m     \u001b[38;5;28;01mfor\u001b[39;00m j \u001b[38;5;129;01min\u001b[39;00m \u001b[38;5;28mrange\u001b[39m(\u001b[38;5;241m9\u001b[39m):\n\u001b[1;32m---> 10\u001b[0m         \u001b[38;5;28;01mif\u001b[39;00m \u001b[43mmatrix\u001b[49m\u001b[43m[\u001b[49m\u001b[43mi\u001b[49m\u001b[43m]\u001b[49m\u001b[43m[\u001b[49m\u001b[43mj\u001b[49m\u001b[43m]\u001b[49m \u001b[38;5;241m>\u001b[39m ans: \n\u001b[0;32m     11\u001b[0m             ans \u001b[38;5;241m=\u001b[39m matrix[i][j]\n\u001b[0;32m     12\u001b[0m             ans_i \u001b[38;5;241m=\u001b[39m i\u001b[38;5;241m+\u001b[39m\u001b[38;5;241m1\u001b[39m\n",
      "\u001b[1;31mIndexError\u001b[0m: list index out of range"
     ]
    }
   ],
   "source": [
    "# name error: 변수 선언 안 된 경우에 나타남\n",
    "# 글쎄, 왜 틀렸었는지 잘 이해 안 돼... (등호 넣고, str(ans_i)를 ,로 바꾸니까 맞음)\n",
    "\n",
    "matrix = [list(map(int, input().split())) for _ in range(9)]\n",
    "ans = 0\n",
    "ans_i = 0\n",
    "ans_j = 0\n",
    "\n",
    "for i in range(9):\n",
    "    for j in range(9):\n",
    "        if matrix[i][j] >= ans: \n",
    "            ans = matrix[i][j]\n",
    "            ans_i = i+1\n",
    "            ans_j = j+1\n",
    "            \n",
    "print(ans)\n",
    "print(ans_i, ans_j)"
   ]
  },
  {
   "cell_type": "markdown",
   "id": "1f04811c",
   "metadata": {},
   "source": [
    "### 10798 세로 읽기"
   ]
  },
  {
   "cell_type": "code",
   "execution_count": null,
   "id": "ec1657d0",
   "metadata": {},
   "outputs": [],
   "source": [
    "# 출처: https://velog.io/@gndan4/%ED%8C%8C%EC%9D%B4%EC%8D%AC-2%EC%B0%A8%EC%9B%90-%EB%A6%AC%EC%8A%A4%ED%8A%B8-%EC%B4%88%EA%B8%B0%ED%99%94-%EC%8B%9C-%EC%A3%BC%EC%9D%98%EC%82%AC%ED%95%AD\n",
    "# words = ([[-1]*15]*5) -> 이렇게 선언하면 초기화 불가능\n",
    "\n",
    "words = [[-1]*15 for _ in range(5)]\n",
    "example = ([list(input()) for _ in range(5)])\n",
    "\n",
    "for i in range(5):\n",
    "    for j in range(len(example[i])):\n",
    "        words[i][j] = example[i][j]\n",
    "        # print(words, words[i][j], example[i][j])\n",
    "\n",
    "# print(words)\n",
    "\n",
    "for i in range(15): #없으면 출력 안하게 만들어야 돼(최대 15자)\n",
    "    for j in range(5):\n",
    "        if words[j][i] != -1:\n",
    "            print(words[j][i], end='')\n"
   ]
  },
  {
   "cell_type": "markdown",
   "id": "f3bbe103",
   "metadata": {},
   "source": [
    "### 2563 색종이"
   ]
  },
  {
   "cell_type": "code",
   "execution_count": 36,
   "id": "0eb3af81",
   "metadata": {},
   "outputs": [
    {
     "name": "stdout",
     "output_type": "stream",
     "text": [
      "3\n",
      "3 7\n",
      "15 7\n",
      "5 2\n",
      "260\n"
     ]
    }
   ],
   "source": [
    "paper = [[0]*100 for _ in range(100)]\n",
    "count = 0\n",
    "n = int(input())\n",
    "\n",
    "for i in range(n):\n",
    "    x, y = map(int, input().split())\n",
    "    for width in range(x, x+10+1):\n",
    "        for height in range(x, x+10+1):\n",
    "            if paper[width][height] == 0:\n",
    "                paper[width][height] = 1\n",
    "                count += 1\n",
    "\n",
    "print(count)"
   ]
  },
  {
   "cell_type": "markdown",
   "id": "a1be0813",
   "metadata": {},
   "source": [
    "## 일반 수학 1"
   ]
  },
  {
   "cell_type": "markdown",
   "id": "88045018",
   "metadata": {},
   "source": [
    "### 2745 진법 변환"
   ]
  },
  {
   "cell_type": "code",
   "execution_count": 44,
   "id": "5953e6d3",
   "metadata": {},
   "outputs": [
    {
     "name": "stdout",
     "output_type": "stream",
     "text": [
      "ZZZZZ 36\n",
      "60466175\n"
     ]
    }
   ],
   "source": [
    "#0 출처: https://velog.io/@kyman19940214/%EB%B0%B1%EC%A4%80-274511005-%EC%A7%84%EB%B2%95-%EB%B3%80%ED%99%98-python%ED%8C%8C%EC%9D%B4%EC%8D%AC\n",
    "#1 RuntimeError(TypeError): int가 아닌 값이 int에 들어갔을 때\n",
    "#2 진법 변환표 value_list = '0123456789ABCD...' 이게 더 유리\n",
    "#3 ::-1 (reverse) 해서 바로 계산! -> string 바로 가능\n",
    "#4 enumerate(X) : (X의 index, X값)\n",
    "\n",
    "result = 0\n",
    "# alphabet = ['A', 'B', 'C', 'D', 'E', 'F', 'G', 'H', 'I', 'J', 'K', 'L', 'M',\n",
    "#            'N', 'O', 'P', 'Q', 'R', 'S', 'T', 'U', 'V', 'W', 'X', 'Y', 'Z']\n",
    "# value = [10, 11, 12, 13, 14, 15, 16, 17, 18, 19, 20, 21, 22, 23, 24, 25, 26,\n",
    "#         27, 28, 29, 30, 31, 32, 33, 34, 35]\n",
    "\n",
    "\n",
    "value = '0123456789ABCDEFGHIJKLMNOPQRSTUVWXYZ'\n",
    "\n",
    "number, b = input().split()\n",
    "b = int(b)\n",
    "number = number[::-1]\n",
    "\n",
    "for i in range(len(number)):\n",
    "    result += value.index(number[i])*(b**i)\n",
    "        \n",
    "print(result)"
   ]
  },
  {
   "cell_type": "markdown",
   "id": "7f7b765a",
   "metadata": {},
   "source": [
    "### 11005 진법 변환 2"
   ]
  },
  {
   "cell_type": "code",
   "execution_count": 61,
   "id": "5edc1701",
   "metadata": {},
   "outputs": [
    {
     "name": "stdout",
     "output_type": "stream",
     "text": [
      "15 3\n",
      "120"
     ]
    }
   ],
   "source": [
    "result = []\n",
    "number, b = map(int, input().split())\n",
    "val_list = '0123456789ABCDEFGHIJKLMNOPQRSTUVWXYZ'\n",
    "\n",
    "while number != 0:\n",
    "    val = number%b \n",
    "    result.append(val_list[val])\n",
    "    number = number//b\n",
    "\n",
    "for i in range(len(result)-1, -1, -1):\n",
    "    print(result[i], end = '')"
   ]
  },
  {
   "cell_type": "markdown",
   "id": "af7e9784",
   "metadata": {},
   "source": [
    "### 2720 세탁소 사장 동혁"
   ]
  },
  {
   "cell_type": "code",
   "execution_count": 75,
   "id": "7803e0df",
   "metadata": {
    "collapsed": true
   },
   "outputs": [
    {
     "name": "stdout",
     "output_type": "stream",
     "text": [
      "3\n",
      "124\n",
      "25\n",
      "194\n",
      "4 2 0 4 \n",
      "1 0 0 0 \n",
      "7 1 1 4 \n"
     ]
    }
   ],
   "source": [
    "#1 list로 작성하면 훨씬 간소화 가능: for div in [25, 10, 5, 1]\n",
    "\n",
    "n = int(input())\n",
    "result=[[] for _ in range(n)]\n",
    "\n",
    "for i in range(n):\n",
    "    money = int(input())\n",
    "    result[i].append(money//25)\n",
    "    money = money%25\n",
    "    result[i].append(money//10)\n",
    "    money = money%10\n",
    "    result[i].append(money//5)\n",
    "    money = money%5\n",
    "    result[i].append(money)\n",
    "\n",
    "for i in range(n):\n",
    "    for j in range(4):\n",
    "        print(result[i][j], end = ' ')\n",
    "    print()"
   ]
  },
  {
   "cell_type": "markdown",
   "id": "36a9c181",
   "metadata": {},
   "source": [
    "### 2903 중앙 이동 알고리즘"
   ]
  },
  {
   "cell_type": "code",
   "execution_count": 80,
   "id": "d64a7d9b",
   "metadata": {},
   "outputs": [
    {
     "name": "stdout",
     "output_type": "stream",
     "text": [
      "5\n",
      "1089\n"
     ]
    }
   ],
   "source": [
    "import math\n",
    "result = 4\n",
    "n = int(input())\n",
    "\n",
    "for i in range(n):\n",
    "    result = (math.sqrt(result)*2-1)**2\n",
    "\n",
    "print(int(result))"
   ]
  },
  {
   "cell_type": "markdown",
   "id": "157008db",
   "metadata": {},
   "source": [
    "### 2292 벌집"
   ]
  },
  {
   "cell_type": "code",
   "execution_count": 113,
   "id": "2e00eb3e",
   "metadata": {},
   "outputs": [
    {
     "name": "stdout",
     "output_type": "stream",
     "text": [
      "13\n",
      "2\n"
     ]
    }
   ],
   "source": [
    "val = 1\n",
    "i = 0\n",
    "n = int(input())\n",
    "\n",
    "while val < n:\n",
    "    i += 1  \n",
    "    val += i*6\n",
    "    \n",
    "print(i+1)"
   ]
  },
  {
   "cell_type": "markdown",
   "id": "62afa032",
   "metadata": {},
   "source": [
    "### 1193 분수 찾기"
   ]
  },
  {
   "cell_type": "code",
   "execution_count": 139,
   "id": "da861589",
   "metadata": {},
   "outputs": [
    {
     "name": "stdout",
     "output_type": "stream",
     "text": [
      "14\n",
      "2/4\n"
     ]
    }
   ],
   "source": [
    "n = int(input())\n",
    "i = 0\n",
    "\n",
    "while i*(i+1)//2 < n:\n",
    "    i+=1\n",
    "if i%2==0:\n",
    "    print(i+1-(i*(i+1)//2-n+1), end='')\n",
    "    print('/', end='')\n",
    "    print(i*(i+1)//2-n+1)\n",
    "else:\n",
    "    print(i*(i+1)//2-n+1,end='')\n",
    "    print('/', end='')\n",
    "    print(i+1-(i*(i+1)//2-n+1))\n",
    "    "
   ]
  },
  {
   "cell_type": "markdown",
   "id": "3b5ba41c",
   "metadata": {},
   "source": [
    "### 2869 달팽이는 올라가고 싶다"
   ]
  },
  {
   "cell_type": "code",
   "execution_count": 32,
   "id": "7e05745a",
   "metadata": {},
   "outputs": [
    {
     "name": "stdout",
     "output_type": "stream",
     "text": [
      "100 99 1000\n",
      "901\n"
     ]
    }
   ],
   "source": [
    "# 시간초과 주의\n",
    "\n",
    "# 1 귀납법으로 문제 이해하기 : snail, height\n",
    "ans = 0\n",
    "snail = 0\n",
    "day, night, height = map(int, input().split())\n",
    "\n",
    "while True:\n",
    "    ans += 1\n",
    "    snail +=  day \n",
    "    if snail >= height:\n",
    "        break\n",
    "    snail -= night \n",
    "    \n",
    "print(ans)"
   ]
  },
  {
   "cell_type": "code",
   "execution_count": 35,
   "id": "18a13f55",
   "metadata": {},
   "outputs": [
    {
     "name": "stdout",
     "output_type": "stream",
     "text": [
      "100 99 1000\n",
      "901\n"
     ]
    }
   ],
   "source": [
    "# 2 귀납법으로 문제 이해하기 : height\n",
    "ans = 0\n",
    "day, night, height = map(int, input().split())\n",
    "\n",
    "while True:\n",
    "    ans += 1\n",
    "    height -=  day \n",
    "    if height<=0:\n",
    "        break\n",
    "    height += night \n",
    "    \n",
    "print(ans)"
   ]
  },
  {
   "cell_type": "code",
   "execution_count": 45,
   "id": "b2236c20",
   "metadata": {},
   "outputs": [
    {
     "name": "stdout",
     "output_type": "stream",
     "text": [
      "100 99 1000000000\n",
      "999999901\n"
     ]
    }
   ],
   "source": [
    "# 3 어떻게 ans를 한 번에 표현할 수 있을까\n",
    "\n",
    "# Key\n",
    "# math -> ceil (올림 함수)\n",
    "\n",
    "\n",
    "import math\n",
    "\n",
    "ans = 1\n",
    "snail = 0\n",
    "day, night, height = map(int, input().split())\n",
    "\n",
    "if height-day <=0:\n",
    "    print(ans)\n",
    "\n",
    "else:\n",
    "    ans += math.ceil((height-day) / (day-night))\n",
    "    print(ans)"
   ]
  },
  {
   "cell_type": "markdown",
   "id": "c9d62a36",
   "metadata": {},
   "source": [
    "## 약수, 배수와 소수"
   ]
  },
  {
   "cell_type": "markdown",
   "id": "fba0eb46",
   "metadata": {},
   "source": [
    "### 5086 배수와 약수"
   ]
  },
  {
   "cell_type": "code",
   "execution_count": 55,
   "id": "ccd0a017",
   "metadata": {},
   "outputs": [
    {
     "name": "stdout",
     "output_type": "stream",
     "text": [
      "8 0\n",
      "0 0\n",
      "neither\n"
     ]
    }
   ],
   "source": [
    "ans = []\n",
    "while True:\n",
    "    a, b = map(int, input().split())\n",
    "    if a==0 & b==0:\n",
    "        break\n",
    "        \n",
    "    elif a==0 or b==0:\n",
    "        ans.append('neither')\n",
    "        \n",
    "    elif b%a == 0:\n",
    "        ans.append('factor')\n",
    "\n",
    "    elif a%b==0:\n",
    "        ans.append('multiple')\n",
    "\n",
    "    else:\n",
    "        ans.append('neither')\n",
    "        \n",
    "for letter in ans:\n",
    "    print(letter)"
   ]
  },
  {
   "cell_type": "markdown",
   "id": "31d0385b",
   "metadata": {},
   "source": [
    "### 2501 약수 구하기"
   ]
  },
  {
   "cell_type": "code",
   "execution_count": 114,
   "id": "f563015b",
   "metadata": {},
   "outputs": [
    {
     "name": "stdout",
     "output_type": "stream",
     "text": [
      "2735 4\n",
      "2735\n"
     ]
    }
   ],
   "source": [
    "rank = 0\n",
    "i = 1\n",
    "a, b = map(int, input().split())\n",
    "\n",
    "while rank < b:\n",
    "    if i > a:\n",
    "        i=1\n",
    "        break\n",
    "\n",
    "    elif a%i == 0:\n",
    "        rank += 1\n",
    "    i+=1\n",
    "print(i-1)"
   ]
  },
  {
   "cell_type": "markdown",
   "id": "ed92f5e4",
   "metadata": {},
   "source": [
    "### 9506 약수들의 합"
   ]
  },
  {
   "cell_type": "code",
   "execution_count": 119,
   "id": "6db96243",
   "metadata": {},
   "outputs": [
    {
     "name": "stdout",
     "output_type": "stream",
     "text": [
      "6\n",
      "6 = 1 + 2 + 3\n",
      "12\n",
      "12 is NOT perfect.\n",
      "-1\n"
     ]
    }
   ],
   "source": [
    "# sum(array) 잘 활용하기 isum 필요 없음\n",
    "while True:\n",
    "    isum = 0\n",
    "    ilist = []\n",
    "    n = int(input())\n",
    "    \n",
    "    if n == -1:\n",
    "        break\n",
    "        \n",
    "    for i in range(1,n):\n",
    "        if n%i == 0:\n",
    "            isum += i\n",
    "            ilist.append(i)\n",
    "            \n",
    "    if isum == n:\n",
    "        print('{} ='.format(n), end=' ')\n",
    "        for num in ilist:\n",
    "            if num == max(ilist):\n",
    "                print(num) #이거에 end = ' '넣어서 틀렸다. 이런 기본적인 거 조심!\n",
    "            else:\n",
    "                print(num, end = ' + ')\n",
    "    \n",
    "    else:\n",
    "        print('{} is NOT perfect.'.format(n))"
   ]
  },
  {
   "cell_type": "code",
   "execution_count": null,
   "id": "dad9ae1c",
   "metadata": {},
   "outputs": [],
   "source": [
    "# 이게 정답! 왜 위는 입력 방식이 지저분한 걸까\n",
    "while True:\n",
    "    isum = 0\n",
    "    ilist = []\n",
    "    n = int(input())\n",
    "    \n",
    "    if n == -1:\n",
    "        break\n",
    "        \n",
    "    for i in range(1,n):\n",
    "        if n%i == 0:\n",
    "            isum += i\n",
    "            ilist.append(i)\n",
    "            \n",
    "    if isum == n:\n",
    "        print(n, ' = ', \" + \".join(str(i) for i in ilist), sep='')\n",
    "        \n",
    "    else:\n",
    "        print(n, 'is NOT perfect.')"
   ]
  },
  {
   "cell_type": "markdown",
   "id": "fec2823a",
   "metadata": {},
   "source": [
    "### 1978 소수 찾기"
   ]
  },
  {
   "cell_type": "code",
   "execution_count": 141,
   "id": "a98bbdc1",
   "metadata": {},
   "outputs": [
    {
     "name": "stdout",
     "output_type": "stream",
     "text": [
      "3\n",
      "19 37 4\n",
      "2\n"
     ]
    }
   ],
   "source": [
    "# 1 변수 초기화 유의하기: error를 매순간 초기화해야 함\n",
    "\n",
    "ans = 0\n",
    "n = int(input())\n",
    "nums = list(map(int, input().split()))\n",
    "    \n",
    "for number in nums:\n",
    "    error = 0\n",
    "#     if number == 1: -> 이 두줄 빼고 if number >1 하니까 맞음. 왜 그런 거지\n",
    "#         continue\n",
    "    if number > 1:\n",
    "        for i in range(2, number):\n",
    "            if number%i == 0:\n",
    "                error += 1\n",
    "        if error == 0:\n",
    "            ans += 1\n",
    "            \n",
    "print(ans)"
   ]
  },
  {
   "cell_type": "markdown",
   "id": "ff521e75",
   "metadata": {},
   "source": [
    "### 2581 소수"
   ]
  },
  {
   "cell_type": "code",
   "execution_count": 159,
   "id": "dd72966b",
   "metadata": {},
   "outputs": [
    {
     "name": "stdout",
     "output_type": "stream",
     "text": [
      "64\n",
      "65\n",
      "-1\n"
     ]
    }
   ],
   "source": [
    "m = int(input())\n",
    "n = int(input())\n",
    "ans = []\n",
    "\n",
    "for i in range(m, n+1):\n",
    "    if i > 1:\n",
    "        error = 0\n",
    "        \n",
    "        for j in range(2, i):\n",
    "            if i%j == 0:\n",
    "#                 print(i,j)\n",
    "                error += 1\n",
    "        if error == 0:\n",
    "            ans.append(i)\n",
    "\n",
    "if sum(ans) != 0:\n",
    "    print(sum(ans))\n",
    "    print(min(ans))\n",
    "else:\n",
    "    print(-1)"
   ]
  },
  {
   "cell_type": "markdown",
   "id": "5679988c",
   "metadata": {},
   "source": [
    "### 11653 소인수분해"
   ]
  },
  {
   "cell_type": "code",
   "execution_count": 170,
   "id": "500026d8",
   "metadata": {},
   "outputs": [
    {
     "name": "stdout",
     "output_type": "stream",
     "text": [
      "9991\n",
      "97\n",
      "103\n"
     ]
    }
   ],
   "source": [
    "i = 2\n",
    "n = int(input())\n",
    "\n",
    "while n != 1:\n",
    "    if n%i == 0:\n",
    "        print(i)\n",
    "        n = n / i\n",
    "    else:\n",
    "        i+=1"
   ]
  },
  {
   "cell_type": "markdown",
   "id": "a3e7d71f",
   "metadata": {},
   "source": [
    "## 기하: 직사각형과 삼각형"
   ]
  },
  {
   "cell_type": "markdown",
   "id": "1fe868c5",
   "metadata": {},
   "source": [
    "### 27323 직사각형"
   ]
  },
  {
   "cell_type": "code",
   "execution_count": 172,
   "id": "a07dd273",
   "metadata": {},
   "outputs": [
    {
     "name": "stdout",
     "output_type": "stream",
     "text": [
      "4\n",
      "4\n",
      "16\n"
     ]
    }
   ],
   "source": [
    "a = int(input())\n",
    "b = int(input())\n",
    "\n",
    "print(a*b)"
   ]
  },
  {
   "cell_type": "markdown",
   "id": "ba806b74",
   "metadata": {},
   "source": [
    "### 1085 직사각형에서 탈출"
   ]
  },
  {
   "cell_type": "code",
   "execution_count": 180,
   "id": "0999ed90",
   "metadata": {},
   "outputs": [
    {
     "name": "stdout",
     "output_type": "stream",
     "text": [
      "161 181 762 375\n",
      "161\n"
     ]
    }
   ],
   "source": [
    "x, y, w, h = map(int, input().split())\n",
    "\n",
    "print(min(min(x, w-x), min(y, h-y)))"
   ]
  },
  {
   "cell_type": "markdown",
   "id": "167c1878",
   "metadata": {},
   "source": [
    "### 3009 네번째 점"
   ]
  },
  {
   "cell_type": "code",
   "execution_count": 185,
   "id": "4d30a5f2",
   "metadata": {},
   "outputs": [
    {
     "name": "stdout",
     "output_type": "stream",
     "text": [
      "30 20\n",
      "10 10\n",
      "10 20\n",
      "30 10\n"
     ]
    }
   ],
   "source": [
    "rec_list_x = []\n",
    "rec_list_y = []\n",
    "\n",
    "for i in range(3):\n",
    "    a, b = map(int, input().split())\n",
    "    rec_list_x.append(a)\n",
    "    rec_list_y.append(b)\n",
    "    \n",
    "for x in rec_list_x:\n",
    "    if rec_list_x.count(x) == 1:\n",
    "        print(x, end = ' ')\n",
    "        \n",
    "for y in rec_list_y:\n",
    "    if rec_list_y.count(y) == 1:\n",
    "        print(y)  "
   ]
  },
  {
   "cell_type": "markdown",
   "id": "4e1ebf08",
   "metadata": {},
   "source": [
    "### 15894 수학은 체육과목입니다"
   ]
  },
  {
   "cell_type": "code",
   "execution_count": 187,
   "id": "578e838f",
   "metadata": {},
   "outputs": [
    {
     "name": "stdout",
     "output_type": "stream",
     "text": [
      "3\n",
      "12\n"
     ]
    }
   ],
   "source": [
    "n = int(input())\n",
    "\n",
    "print(4*n)"
   ]
  },
  {
   "cell_type": "markdown",
   "id": "f9c6ca3d",
   "metadata": {},
   "source": [
    "### 9063 대지"
   ]
  },
  {
   "cell_type": "code",
   "execution_count": 192,
   "id": "1052b02d",
   "metadata": {},
   "outputs": [
    {
     "name": "stdout",
     "output_type": "stream",
     "text": [
      "4\n",
      "2 1\n",
      "3 2\n",
      "5 2\n",
      "3 4\n",
      "9\n"
     ]
    }
   ],
   "source": [
    "n = int(input())\n",
    "xlist = []\n",
    "ylist = []\n",
    "\n",
    "for i in range(n):\n",
    "    a, b = list(map(int, input().split()))\n",
    "    xlist.append(a)\n",
    "    ylist.append(b)\n",
    "    \n",
    "print((max(xlist)-min(xlist))*(max(ylist)-min(ylist)))"
   ]
  },
  {
   "cell_type": "markdown",
   "id": "89aef053",
   "metadata": {},
   "source": [
    "### 10101 삼각형 외우기"
   ]
  },
  {
   "cell_type": "code",
   "execution_count": 199,
   "id": "f9e18648",
   "metadata": {},
   "outputs": [
    {
     "name": "stdout",
     "output_type": "stream",
     "text": [
      "60\n",
      "70\n",
      "50\n",
      "Scalene\n"
     ]
    }
   ],
   "source": [
    "#1 꼭 int()를 씌워야 한다! \n",
    "#2 a,b,c, 입력 간단하게 -> [int(input()) for i in range(3)]\n",
    "a = int(input()) #a=input()\n",
    "b = int(input())\n",
    "c = int(input())\n",
    "\n",
    "if (a+b+c) != 180:\n",
    "    print('Error')\n",
    "\n",
    "elif a == b == c:\n",
    "    print('Equilateral')\n",
    "    \n",
    "elif a==b or b==c or c==a:\n",
    "    print('Isosceles')\n",
    "    \n",
    "else:\n",
    "    print('Scalene')"
   ]
  },
  {
   "cell_type": "markdown",
   "id": "706a615f",
   "metadata": {},
   "source": [
    "### 5073 삼각형과 세 변"
   ]
  },
  {
   "cell_type": "code",
   "execution_count": 207,
   "id": "b218c980",
   "metadata": {},
   "outputs": [
    {
     "name": "stdout",
     "output_type": "stream",
     "text": [
      "1 2 3\n",
      "Invalid\n",
      "0 0 0\n"
     ]
    }
   ],
   "source": [
    "#1 sorted로 정리한 후에 계산하면 구현 가능!! (물론 다 적어도 OK)\n",
    "while True:\n",
    "    arr = []\n",
    "    a0,b0,c0 = map(int, input().split())\n",
    "    arr.append(a0)\n",
    "    arr.append(b0)\n",
    "    arr.append(c0)\n",
    "    sorted(arr)\n",
    "    a = a0\n",
    "    b = b0\n",
    "    c = c0\n",
    "    \n",
    "    if a==0 or b==0 or c==0:\n",
    "        break\n",
    "        \n",
    "    elif c >= a+b:\n",
    "        print('Invalid')\n",
    "        \n",
    "    elif a == b == c:\n",
    "        print('Equilateral')\n",
    "\n",
    "    elif a==b or b==c or c==a:\n",
    "        print('Isosceles')\n",
    "\n",
    "    else:\n",
    "        print('Scalene')"
   ]
  },
  {
   "cell_type": "code",
   "execution_count": 216,
   "id": "cf9274e3",
   "metadata": {},
   "outputs": [
    {
     "name": "stdout",
     "output_type": "stream",
     "text": [
      "41 64 16\n",
      "113\n"
     ]
    }
   ],
   "source": [
    "L = sorted(list(map(int, input().split())))\n",
    "\n",
    "a = L[0]; b=L[1]; c=L[2]\n",
    "\n",
    "if c >= a+b:\n",
    "    print(a+b+(a+b-1))\n",
    "else:\n",
    "    print(a+b+c)"
   ]
  },
  {
   "cell_type": "markdown",
   "id": "5d49daf0",
   "metadata": {},
   "source": [
    "## 시간 복잡도"
   ]
  },
  {
   "cell_type": "markdown",
   "id": "2f3539dc",
   "metadata": {},
   "source": [
    "### 24262 알고리즘 수업 - 알고리즙의 수행 시간 1"
   ]
  },
  {
   "cell_type": "code",
   "execution_count": null,
   "id": "6f32801b",
   "metadata": {},
   "outputs": [],
   "source": [
    "print(1)\n",
    "print(0)"
   ]
  },
  {
   "cell_type": "markdown",
   "id": "e91fd72b",
   "metadata": {},
   "source": [
    "### 24263 알고리즘 수업 - 알고리즘의 수행 시간 2"
   ]
  },
  {
   "cell_type": "code",
   "execution_count": null,
   "id": "48c209fb",
   "metadata": {},
   "outputs": [],
   "source": [
    "n = input()\n",
    "print(n)\n",
    "print(1)"
   ]
  },
  {
   "cell_type": "markdown",
   "id": "0a684ff2",
   "metadata": {},
   "source": [
    "### 24264 알고리즘 수업 - 알고리즘의 수행 시간 3"
   ]
  },
  {
   "cell_type": "code",
   "execution_count": 217,
   "id": "c67f09f1",
   "metadata": {},
   "outputs": [
    {
     "name": "stdout",
     "output_type": "stream",
     "text": [
      "7\n",
      "49\n",
      "2\n"
     ]
    }
   ],
   "source": [
    "n = int(input())\n",
    "print(n**2)\n",
    "print(2)"
   ]
  },
  {
   "cell_type": "markdown",
   "id": "0f87126b",
   "metadata": {},
   "source": [
    "### 24265 알고리즘 수업 - 알고리즘의 수행 시간 4"
   ]
  },
  {
   "cell_type": "code",
   "execution_count": 219,
   "id": "00385f7f",
   "metadata": {},
   "outputs": [
    {
     "name": "stdout",
     "output_type": "stream",
     "text": [
      "7\n",
      "21.0\n",
      "2\n"
     ]
    }
   ],
   "source": [
    "n = int(input())\n",
    "print(int(n*(n-1)/2))\n",
    "print(2)"
   ]
  },
  {
   "cell_type": "markdown",
   "id": "cc15d3f6",
   "metadata": {},
   "source": [
    "### 24266 알고리즘 수업 - 알고리즘의 수행 시간 5"
   ]
  },
  {
   "cell_type": "code",
   "execution_count": 220,
   "id": "922643df",
   "metadata": {},
   "outputs": [
    {
     "name": "stdout",
     "output_type": "stream",
     "text": [
      "7\n",
      "343\n",
      "3\n"
     ]
    }
   ],
   "source": [
    "n = int(input())\n",
    "print(n**3)\n",
    "print(3)"
   ]
  },
  {
   "cell_type": "markdown",
   "id": "e4a9ce72",
   "metadata": {},
   "source": [
    "### 24267 알고리즘 수업 - 알고리즘의 수행 시간 6"
   ]
  },
  {
   "cell_type": "code",
   "execution_count": 242,
   "id": "0a79aefa",
   "metadata": {
    "collapsed": true
   },
   "outputs": [
    {
     "ename": "KeyboardInterrupt",
     "evalue": "Interrupted by user",
     "output_type": "error",
     "traceback": [
      "\u001b[1;31m---------------------------------------------------------------------------\u001b[0m",
      "\u001b[1;31mKeyboardInterrupt\u001b[0m                         Traceback (most recent call last)",
      "Input \u001b[1;32mIn [242]\u001b[0m, in \u001b[0;36m<cell line: 1>\u001b[1;34m()\u001b[0m\n\u001b[1;32m----> 1\u001b[0m n \u001b[38;5;241m=\u001b[39m \u001b[38;5;28mint\u001b[39m(\u001b[38;5;28;43minput\u001b[39;49m\u001b[43m(\u001b[49m\u001b[43m)\u001b[49m)\n\u001b[0;32m      2\u001b[0m \u001b[38;5;28mprint\u001b[39m((n\u001b[38;5;241m-\u001b[39m\u001b[38;5;241m2\u001b[39m)\u001b[38;5;241m*\u001b[39m(n\u001b[38;5;241m-\u001b[39m\u001b[38;5;241m1\u001b[39m)\u001b[38;5;241m*\u001b[39mn\u001b[38;5;241m/\u001b[39m\u001b[38;5;241m/\u001b[39m\u001b[38;5;241m6\u001b[39m)\n\u001b[0;32m      3\u001b[0m \u001b[38;5;28mprint\u001b[39m(\u001b[38;5;241m3\u001b[39m)\n",
      "File \u001b[1;32m~\\anaconda3\\lib\\site-packages\\ipykernel\\kernelbase.py:1075\u001b[0m, in \u001b[0;36mKernel.raw_input\u001b[1;34m(self, prompt)\u001b[0m\n\u001b[0;32m   1071\u001b[0m \u001b[38;5;28;01mif\u001b[39;00m \u001b[38;5;129;01mnot\u001b[39;00m \u001b[38;5;28mself\u001b[39m\u001b[38;5;241m.\u001b[39m_allow_stdin:\n\u001b[0;32m   1072\u001b[0m     \u001b[38;5;28;01mraise\u001b[39;00m StdinNotImplementedError(\n\u001b[0;32m   1073\u001b[0m         \u001b[38;5;124m\"\u001b[39m\u001b[38;5;124mraw_input was called, but this frontend does not support input requests.\u001b[39m\u001b[38;5;124m\"\u001b[39m\n\u001b[0;32m   1074\u001b[0m     )\n\u001b[1;32m-> 1075\u001b[0m \u001b[38;5;28;01mreturn\u001b[39;00m \u001b[38;5;28;43mself\u001b[39;49m\u001b[38;5;241;43m.\u001b[39;49m\u001b[43m_input_request\u001b[49m\u001b[43m(\u001b[49m\n\u001b[0;32m   1076\u001b[0m \u001b[43m    \u001b[49m\u001b[38;5;28;43mstr\u001b[39;49m\u001b[43m(\u001b[49m\u001b[43mprompt\u001b[49m\u001b[43m)\u001b[49m\u001b[43m,\u001b[49m\n\u001b[0;32m   1077\u001b[0m \u001b[43m    \u001b[49m\u001b[38;5;28;43mself\u001b[39;49m\u001b[38;5;241;43m.\u001b[39;49m\u001b[43m_parent_ident\u001b[49m\u001b[43m[\u001b[49m\u001b[38;5;124;43m\"\u001b[39;49m\u001b[38;5;124;43mshell\u001b[39;49m\u001b[38;5;124;43m\"\u001b[39;49m\u001b[43m]\u001b[49m\u001b[43m,\u001b[49m\n\u001b[0;32m   1078\u001b[0m \u001b[43m    \u001b[49m\u001b[38;5;28;43mself\u001b[39;49m\u001b[38;5;241;43m.\u001b[39;49m\u001b[43mget_parent\u001b[49m\u001b[43m(\u001b[49m\u001b[38;5;124;43m\"\u001b[39;49m\u001b[38;5;124;43mshell\u001b[39;49m\u001b[38;5;124;43m\"\u001b[39;49m\u001b[43m)\u001b[49m\u001b[43m,\u001b[49m\n\u001b[0;32m   1079\u001b[0m \u001b[43m    \u001b[49m\u001b[43mpassword\u001b[49m\u001b[38;5;241;43m=\u001b[39;49m\u001b[38;5;28;43;01mFalse\u001b[39;49;00m\u001b[43m,\u001b[49m\n\u001b[0;32m   1080\u001b[0m \u001b[43m\u001b[49m\u001b[43m)\u001b[49m\n",
      "File \u001b[1;32m~\\anaconda3\\lib\\site-packages\\ipykernel\\kernelbase.py:1120\u001b[0m, in \u001b[0;36mKernel._input_request\u001b[1;34m(self, prompt, ident, parent, password)\u001b[0m\n\u001b[0;32m   1117\u001b[0m             \u001b[38;5;28;01mbreak\u001b[39;00m\n\u001b[0;32m   1118\u001b[0m \u001b[38;5;28;01mexcept\u001b[39;00m \u001b[38;5;167;01mKeyboardInterrupt\u001b[39;00m:\n\u001b[0;32m   1119\u001b[0m     \u001b[38;5;66;03m# re-raise KeyboardInterrupt, to truncate traceback\u001b[39;00m\n\u001b[1;32m-> 1120\u001b[0m     \u001b[38;5;28;01mraise\u001b[39;00m \u001b[38;5;167;01mKeyboardInterrupt\u001b[39;00m(\u001b[38;5;124m\"\u001b[39m\u001b[38;5;124mInterrupted by user\u001b[39m\u001b[38;5;124m\"\u001b[39m) \u001b[38;5;28;01mfrom\u001b[39;00m \u001b[38;5;28mNone\u001b[39m\n\u001b[0;32m   1121\u001b[0m \u001b[38;5;28;01mexcept\u001b[39;00m \u001b[38;5;167;01mException\u001b[39;00m:\n\u001b[0;32m   1122\u001b[0m     \u001b[38;5;28mself\u001b[39m\u001b[38;5;241m.\u001b[39mlog\u001b[38;5;241m.\u001b[39mwarning(\u001b[38;5;124m\"\u001b[39m\u001b[38;5;124mInvalid Message:\u001b[39m\u001b[38;5;124m\"\u001b[39m, exc_info\u001b[38;5;241m=\u001b[39m\u001b[38;5;28;01mTrue\u001b[39;00m)\n",
      "\u001b[1;31mKeyboardInterrupt\u001b[0m: Interrupted by user"
     ]
    }
   ],
   "source": [
    "n = int(input())\n",
    "print((n-2)*(n-1)*n//6)\n",
    "print(3)\n",
    "\n",
    "# 알고리즘 이해하기\n",
    "# 1\t2\t3\n",
    "# \t\t4\n",
    "# \t\t5\n",
    "# \t\t...\n",
    "# \t\tn\t>> n-2\n",
    "# \t3\t4\n",
    "# \t\t5\n",
    "# \t\t...\n",
    "# \t\tn\t>> n-3\n",
    "# \t...\t...\n",
    "# \tn-1\tn\t>> 1\t>> (n-2)(n-1)/2\n",
    "\n",
    "# 2\t3\t4\n",
    "# \t\t5\n",
    "# \t\t6\t\n",
    "# \t\t...\n",
    "# \t\tn\t>> n-3\n",
    "# \t4\t5\n",
    "# \t\t6\n",
    "# \t\t...\n",
    "# \t\tn\t>> n-4\n",
    "# \t...\t...\n",
    "# \tn-1\tn\t>> 1\t>> (n-3)(n-2)/2\n",
    "\n",
    "# ...\n",
    "\n",
    "# n-2\tn-1\tn\t>> 1\t>> 1*2/2\n",
    "\n",
    "\n",
    "# sigma 1~n-2 k(k+1)/2\n",
    "\n",
    "# n\n",
    "# k**2/2 = n(n+1)(2n+1)/12\n",
    "# k/2 = n(n+1)/4\n",
    "\n",
    "# n-2\n",
    "# (n-2)(n-1)(2n-3)/12\n",
    "# (n-2)(n-1)/4\n",
    "\n",
    "# (n-2)(n-1)(2n-3)/12\n",
    "# (n-2)(n-1)*3/12\n",
    "\n",
    "# (n-2)(n-1)*2n/12 \n",
    "# (n-2)(n-1)n/6\n",
    "\n",
    "# 7\n",
    "# 5\t4\t3\t/6\n",
    "\n",
    "# 7\n",
    "# 5\t6\t11\t/12\t\n",
    "# 5\t6\t\t/4\n",
    "# 7\t8\t15\t/12\n",
    "# 5\t6\t11\t/12"
   ]
  },
  {
   "cell_type": "markdown",
   "id": "a4767f6a",
   "metadata": {},
   "source": [
    "### 24313 알고리즘 수업 - 점근적 표기 [Q]"
   ]
  },
  {
   "cell_type": "code",
   "execution_count": 241,
   "id": "8622bd7e",
   "metadata": {},
   "outputs": [
    {
     "name": "stdout",
     "output_type": "stream",
     "text": [
      "7 7\n",
      "8\n",
      "10\n",
      "1\n"
     ]
    }
   ],
   "source": [
    "# 정수 = 음수 + 양수\n",
    "# Q. a1 <= c 원인 조금 더 분석하기\n",
    "\n",
    "a1, a0 = map(int, input().split())\n",
    "c = int(input())\n",
    "n0 = int(input())\n",
    "\n",
    "if a1*n0 + a0 <= c*n0 and (a1<=c): #Q1\n",
    "    print(1)\n",
    "else:\n",
    "    print(0)"
   ]
  },
  {
   "cell_type": "code",
   "execution_count": null,
   "id": "5c9c5926",
   "metadata": {},
   "outputs": [],
   "source": []
  },
  {
   "cell_type": "code",
   "execution_count": null,
   "id": "095355ec",
   "metadata": {},
   "outputs": [],
   "source": []
  },
  {
   "cell_type": "code",
   "execution_count": null,
   "id": "e6e3ecfe",
   "metadata": {},
   "outputs": [],
   "source": []
  },
  {
   "cell_type": "code",
   "execution_count": null,
   "id": "bef10bff",
   "metadata": {},
   "outputs": [],
   "source": []
  },
  {
   "cell_type": "code",
   "execution_count": null,
   "id": "cbf9395b",
   "metadata": {},
   "outputs": [],
   "source": []
  },
  {
   "cell_type": "code",
   "execution_count": null,
   "id": "74a249a5",
   "metadata": {},
   "outputs": [],
   "source": []
  },
  {
   "cell_type": "code",
   "execution_count": null,
   "id": "6aebc0f0",
   "metadata": {},
   "outputs": [],
   "source": []
  },
  {
   "cell_type": "code",
   "execution_count": null,
   "id": "732632ba",
   "metadata": {},
   "outputs": [],
   "source": []
  },
  {
   "cell_type": "code",
   "execution_count": null,
   "id": "c7e60305",
   "metadata": {},
   "outputs": [],
   "source": []
  },
  {
   "cell_type": "code",
   "execution_count": null,
   "id": "c6e1b7e1",
   "metadata": {},
   "outputs": [],
   "source": []
  },
  {
   "cell_type": "code",
   "execution_count": null,
   "id": "092f00b1",
   "metadata": {},
   "outputs": [],
   "source": []
  },
  {
   "cell_type": "code",
   "execution_count": null,
   "id": "1ac16953",
   "metadata": {},
   "outputs": [],
   "source": []
  },
  {
   "cell_type": "code",
   "execution_count": null,
   "id": "f01ed9f5",
   "metadata": {},
   "outputs": [],
   "source": []
  },
  {
   "cell_type": "code",
   "execution_count": null,
   "id": "40e982b2",
   "metadata": {},
   "outputs": [],
   "source": []
  },
  {
   "cell_type": "code",
   "execution_count": null,
   "id": "370180d8",
   "metadata": {},
   "outputs": [],
   "source": []
  },
  {
   "cell_type": "code",
   "execution_count": null,
   "id": "a328fa06",
   "metadata": {},
   "outputs": [],
   "source": []
  },
  {
   "cell_type": "code",
   "execution_count": null,
   "id": "b91e334e",
   "metadata": {},
   "outputs": [],
   "source": []
  },
  {
   "cell_type": "code",
   "execution_count": null,
   "id": "e9b3ff46",
   "metadata": {},
   "outputs": [],
   "source": []
  },
  {
   "cell_type": "code",
   "execution_count": null,
   "id": "1eb8aa3a",
   "metadata": {},
   "outputs": [],
   "source": []
  },
  {
   "cell_type": "code",
   "execution_count": null,
   "id": "93917905",
   "metadata": {},
   "outputs": [],
   "source": []
  },
  {
   "cell_type": "code",
   "execution_count": null,
   "id": "2a904943",
   "metadata": {},
   "outputs": [],
   "source": []
  },
  {
   "cell_type": "code",
   "execution_count": null,
   "id": "19a88e42",
   "metadata": {},
   "outputs": [],
   "source": []
  },
  {
   "cell_type": "code",
   "execution_count": null,
   "id": "40a31311",
   "metadata": {},
   "outputs": [],
   "source": []
  },
  {
   "cell_type": "code",
   "execution_count": null,
   "id": "e881b428",
   "metadata": {},
   "outputs": [],
   "source": []
  },
  {
   "cell_type": "code",
   "execution_count": null,
   "id": "6c29c704",
   "metadata": {},
   "outputs": [],
   "source": []
  },
  {
   "cell_type": "code",
   "execution_count": null,
   "id": "12be49b9",
   "metadata": {},
   "outputs": [],
   "source": []
  },
  {
   "cell_type": "code",
   "execution_count": null,
   "id": "73a8ed1a",
   "metadata": {},
   "outputs": [],
   "source": []
  }
 ],
 "metadata": {
  "kernelspec": {
   "display_name": "Python 3 (ipykernel)",
   "language": "python",
   "name": "python3"
  },
  "language_info": {
   "codemirror_mode": {
    "name": "ipython",
    "version": 3
   },
   "file_extension": ".py",
   "mimetype": "text/x-python",
   "name": "python",
   "nbconvert_exporter": "python",
   "pygments_lexer": "ipython3",
   "version": "3.9.12"
  }
 },
 "nbformat": 4,
 "nbformat_minor": 5
}
