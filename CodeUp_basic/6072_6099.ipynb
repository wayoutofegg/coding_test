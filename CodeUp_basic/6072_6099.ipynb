{
 "cells": [
  {
   "cell_type": "markdown",
   "id": "3a2e723d",
   "metadata": {},
   "source": [
    "### 6072"
   ]
  },
  {
   "cell_type": "code",
   "execution_count": 1,
   "id": "01a6dba3",
   "metadata": {},
   "outputs": [
    {
     "name": "stdout",
     "output_type": "stream",
     "text": [
      "5\n",
      "5\n",
      "4\n",
      "3\n",
      "2\n",
      "1\n"
     ]
    }
   ],
   "source": [
    "n = int(input())\n",
    "\n",
    "while n != 0:\n",
    "    print(n)\n",
    "    n = n-1"
   ]
  },
  {
   "cell_type": "markdown",
   "id": "ff272daf",
   "metadata": {},
   "source": [
    "### 6073"
   ]
  },
  {
   "cell_type": "code",
   "execution_count": 2,
   "id": "9f4cd976",
   "metadata": {},
   "outputs": [
    {
     "name": "stdout",
     "output_type": "stream",
     "text": [
      "5\n",
      "4\n",
      "3\n",
      "2\n",
      "1\n",
      "0\n"
     ]
    }
   ],
   "source": [
    "n = int(input())\n",
    "\n",
    "while n != 0:\n",
    "    n = n-1\n",
    "    print(n)"
   ]
  },
  {
   "cell_type": "markdown",
   "id": "b6fc8fc4",
   "metadata": {},
   "source": [
    "### 6074"
   ]
  },
  {
   "cell_type": "code",
   "execution_count": 10,
   "id": "f8ff088a",
   "metadata": {},
   "outputs": [
    {
     "name": "stdout",
     "output_type": "stream",
     "text": [
      "f\n",
      "a b c d e f "
     ]
    }
   ],
   "source": [
    "c = input()\n",
    "n = ord(c)\n",
    "i = 97\n",
    "\n",
    "while i <= n:\n",
    "    print(chr(i), end = ' ')\n",
    "    i = i+1"
   ]
  },
  {
   "cell_type": "markdown",
   "id": "82b1ad8f",
   "metadata": {},
   "source": [
    "### 6075"
   ]
  },
  {
   "cell_type": "code",
   "execution_count": 12,
   "id": "21c529eb",
   "metadata": {},
   "outputs": [
    {
     "name": "stdout",
     "output_type": "stream",
     "text": [
      "4\n",
      "0\n",
      "1\n",
      "2\n",
      "3\n",
      "4\n"
     ]
    }
   ],
   "source": [
    "n = int(input())\n",
    "i = 0\n",
    "\n",
    "while i <= n:\n",
    "    print(i)\n",
    "    i = i+1"
   ]
  },
  {
   "cell_type": "markdown",
   "id": "fe857a3c",
   "metadata": {},
   "source": [
    "### 6076"
   ]
  },
  {
   "cell_type": "code",
   "execution_count": 13,
   "id": "2fac627b",
   "metadata": {},
   "outputs": [
    {
     "name": "stdout",
     "output_type": "stream",
     "text": [
      "4\n",
      "0\n",
      "1\n",
      "2\n",
      "3\n",
      "4\n"
     ]
    }
   ],
   "source": [
    "n = int(input())\n",
    "\n",
    "for i in range(n+1):\n",
    "    print(i)"
   ]
  },
  {
   "cell_type": "markdown",
   "id": "6d3573ae",
   "metadata": {},
   "source": [
    "### 6077 !"
   ]
  },
  {
   "cell_type": "code",
   "execution_count": 18,
   "id": "02eb1a07",
   "metadata": {},
   "outputs": [
    {
     "name": "stdout",
     "output_type": "stream",
     "text": [
      "5\n",
      "6\n"
     ]
    }
   ],
   "source": [
    "n = int(input())\n",
    "sum = 0\n",
    "\n",
    "for i in range(n+1):\n",
    "    if i%2 == 0:\n",
    "        sum = sum + i\n",
    "    \n",
    "print(sum)\n",
    "\n",
    "# codeup은 Jupyter와 달리 print를 반드시 넣어야 출력이 나온다! 기억하자!"
   ]
  },
  {
   "cell_type": "markdown",
   "id": "c51c92f5",
   "metadata": {},
   "source": [
    "### 6078[Q] - 출력 표현 이해하기"
   ]
  },
  {
   "cell_type": "code",
   "execution_count": 26,
   "id": "b4d925ba",
   "metadata": {},
   "outputs": [
    {
     "name": "stdout",
     "output_type": "stream",
     "text": [
      "c\n",
      "c\n",
      "b\n",
      "b\n",
      "d\n",
      "d\n",
      "q\n",
      "q\n"
     ]
    }
   ],
   "source": [
    "while True:\n",
    "    c = input()\n",
    "    print(c)\n",
    "    if c == 'q':\n",
    "        break"
   ]
  },
  {
   "cell_type": "markdown",
   "id": "e7385d22",
   "metadata": {},
   "source": [
    "### 6079"
   ]
  },
  {
   "cell_type": "code",
   "execution_count": 37,
   "id": "da168575",
   "metadata": {},
   "outputs": [
    {
     "name": "stdout",
     "output_type": "stream",
     "text": [
      "55\n",
      "10\n"
     ]
    }
   ],
   "source": [
    "n = int(input())\n",
    "sum = 0\n",
    "i = 1\n",
    "\n",
    "while True:\n",
    "    sum = sum + i\n",
    "    \n",
    "    if sum >= n:\n",
    "        break\n",
    "        \n",
    "    i = i + 1\n",
    "        \n",
    "print(i)"
   ]
  },
  {
   "cell_type": "markdown",
   "id": "491b7e2b",
   "metadata": {},
   "source": [
    "### 6080 !"
   ]
  },
  {
   "cell_type": "code",
   "execution_count": 46,
   "id": "1087efbc",
   "metadata": {},
   "outputs": [
    {
     "name": "stdout",
     "output_type": "stream",
     "text": [
      "2 3\n",
      "1 1\n",
      "1 2\n",
      "1 3\n",
      "2 1\n",
      "2 2\n",
      "2 3\n"
     ]
    }
   ],
   "source": [
    "input_ = input().split(' ')\n",
    "n = int(input_[0])\n",
    "m = int(input_[1])\n",
    "\n",
    "for i in range(1, n+1):\n",
    "    for j in range(1, m+1):\n",
    "        print(str(i) + ' ' + str(j))\n",
    "\n",
    "# str과 chr을 구분하라!"
   ]
  },
  {
   "cell_type": "markdown",
   "id": "96b05792",
   "metadata": {},
   "source": [
    "### 6081 !"
   ]
  },
  {
   "cell_type": "code",
   "execution_count": 49,
   "id": "be7cf811",
   "metadata": {},
   "outputs": [
    {
     "name": "stdout",
     "output_type": "stream",
     "text": [
      "B\n",
      "B*1=B\n",
      "B*2=16\n",
      "B*3=21\n",
      "B*4=2C\n",
      "B*5=37\n",
      "B*6=42\n",
      "B*7=4D\n",
      "B*8=58\n",
      "B*9=63\n",
      "B*A=6E\n",
      "B*B=79\n",
      "B*C=84\n",
      "B*D=8F\n",
      "B*E=9A\n",
      "B*F=A5\n"
     ]
    }
   ],
   "source": [
    "n = int(input(), 16) # 16진수 input 저장!\n",
    "\n",
    "for i in range(1, 16):\n",
    "    print('%X'%n + '*%X'%i + '=%X'%(i*n), sep = '')\n",
    "    \n",
    "# % 형식 익숙해지기!\n",
    "# sep = '' 으로 출력 조절하는 것 익숙해지기!"
   ]
  },
  {
   "cell_type": "markdown",
   "id": "20ca908b",
   "metadata": {},
   "source": [
    "### 6082"
   ]
  },
  {
   "cell_type": "code",
   "execution_count": 60,
   "id": "47517e2f",
   "metadata": {},
   "outputs": [
    {
     "name": "stdout",
     "output_type": "stream",
     "text": [
      "9\n",
      "1 2 X 4 5 X 7 8 X "
     ]
    }
   ],
   "source": [
    "n = int(input())\n",
    "i = 0\n",
    "\n",
    "for i in range(1, n+1):\n",
    "    if i%10 == 3 :\n",
    "        print(\"X\", end = ' ')\n",
    "    elif i%10 == 6 :\n",
    "        print(\"X\", end = ' ')\n",
    "    elif i%10 == 9 :\n",
    "        print(\"X\", end = ' ')\n",
    "    else:\n",
    "        print(i, end = ' ')\n",
    "print()"
   ]
  },
  {
   "cell_type": "markdown",
   "id": "c9affbc8",
   "metadata": {},
   "source": [
    "### 6083 ! - 나중에 다시 제출해야 함"
   ]
  },
  {
   "cell_type": "code",
   "execution_count": 66,
   "id": "f8d96f42",
   "metadata": {},
   "outputs": [
    {
     "name": "stdout",
     "output_type": "stream",
     "text": [
      "1 1 1\n",
      "0 0 0\n",
      "1\n"
     ]
    }
   ],
   "source": [
    "lst = input().split(' ')\n",
    "r = int(lst[0])\n",
    "g = int(lst[1])\n",
    "b = int(lst[2])\n",
    "sum = 0\n",
    "\n",
    "for i in range(r):\n",
    "    for j in range(g):\n",
    "        for k in range(b):\n",
    "            print(i, j, k)\n",
    "            \n",
    "print(r*g*b)"
   ]
  },
  {
   "cell_type": "markdown",
   "id": "9cf2ab34",
   "metadata": {},
   "source": [
    "### 6084"
   ]
  },
  {
   "cell_type": "code",
   "execution_count": 71,
   "id": "f1309cb4",
   "metadata": {},
   "outputs": [
    {
     "name": "stdout",
     "output_type": "stream",
     "text": [
      "44100 16 2 10\n",
      "1.7 MB\n"
     ]
    }
   ],
   "source": [
    "h, b, c, s = input().split()\n",
    "h = int(h)\n",
    "b = int(b)\n",
    "c = int(c)\n",
    "s = int(s)\n",
    "\n",
    "ans = h * b*c*s / (8*1024*1024)\n",
    "print('%.1f'%ans, 'MB')"
   ]
  },
  {
   "cell_type": "markdown",
   "id": "59c87885",
   "metadata": {},
   "source": [
    "### 6085"
   ]
  },
  {
   "cell_type": "code",
   "execution_count": 74,
   "id": "d40012fe",
   "metadata": {},
   "outputs": [
    {
     "name": "stdout",
     "output_type": "stream",
     "text": [
      "1024 768 24\n",
      "2.25 MB\n"
     ]
    }
   ],
   "source": [
    "w, h, b = input().split()\n",
    "w = int(w)\n",
    "h = int(h)\n",
    "b = int(b)\n",
    "\n",
    "ans = w*h*b / (8*1024*1024)\n",
    "print('%.2f'%ans, 'MB')"
   ]
  },
  {
   "cell_type": "markdown",
   "id": "f37da803",
   "metadata": {},
   "source": [
    "### 6086"
   ]
  },
  {
   "cell_type": "code",
   "execution_count": 76,
   "id": "f29c604c",
   "metadata": {},
   "outputs": [
    {
     "name": "stdout",
     "output_type": "stream",
     "text": [
      "57\n",
      "66\n"
     ]
    }
   ],
   "source": [
    "n = int(input())\n",
    "s = 0\n",
    "c = 1\n",
    "\n",
    "while True:\n",
    "    s += c\n",
    "    c += 1\n",
    "    if s >= n:\n",
    "        break\n",
    "        \n",
    "print(s)"
   ]
  },
  {
   "cell_type": "markdown",
   "id": "3cabd424",
   "metadata": {},
   "source": [
    "### 6087"
   ]
  },
  {
   "cell_type": "code",
   "execution_count": 78,
   "id": "85d0d23a",
   "metadata": {},
   "outputs": [
    {
     "name": "stdout",
     "output_type": "stream",
     "text": [
      "10\n",
      "1 2 4 5 7 8 10 "
     ]
    }
   ],
   "source": [
    "n = int(input())\n",
    "\n",
    "for i in range(1, n+1):\n",
    "    if i % 3==0:\n",
    "        continue\n",
    "    print(i, end = ' ')\n"
   ]
  },
  {
   "cell_type": "markdown",
   "id": "82262883",
   "metadata": {},
   "source": [
    "### 6088"
   ]
  },
  {
   "cell_type": "code",
   "execution_count": 82,
   "id": "c51a1467",
   "metadata": {},
   "outputs": [
    {
     "name": "stdout",
     "output_type": "stream",
     "text": [
      "1 3 5\n",
      "13\n"
     ]
    }
   ],
   "source": [
    "a, d, n = input().split()\n",
    "a = int(a)\n",
    "d = int(d)\n",
    "n = int(n)\n",
    "\n",
    "for i in range(n-1):\n",
    "    a = a + d\n",
    "\n",
    "print(a)"
   ]
  },
  {
   "cell_type": "markdown",
   "id": "9b59f1ad",
   "metadata": {},
   "source": [
    "### 6089"
   ]
  },
  {
   "cell_type": "code",
   "execution_count": 83,
   "id": "f888098c",
   "metadata": {},
   "outputs": [
    {
     "name": "stdout",
     "output_type": "stream",
     "text": [
      "2 3 7\n",
      "1458\n"
     ]
    }
   ],
   "source": [
    "a, r, n = input().split()\n",
    "a = int(a)\n",
    "r = int(r)\n",
    "n = int(n)\n",
    "\n",
    "for i in range(n-1):\n",
    "    a = a * r\n",
    "\n",
    "print(a)"
   ]
  },
  {
   "cell_type": "markdown",
   "id": "f10def80",
   "metadata": {},
   "source": [
    "### 6090"
   ]
  },
  {
   "cell_type": "code",
   "execution_count": 84,
   "id": "daa34cf1",
   "metadata": {},
   "outputs": [
    {
     "name": "stdout",
     "output_type": "stream",
     "text": [
      "1 -2 1 8\n",
      "-85\n"
     ]
    }
   ],
   "source": [
    "a, m, d, n = input().split()\n",
    "a = int(a)\n",
    "m = int(m)\n",
    "d = int(d)\n",
    "n = int(n)\n",
    "\n",
    "for i in range(n-1):\n",
    "    a = a * m + d\n",
    "\n",
    "print(a)"
   ]
  },
  {
   "cell_type": "markdown",
   "id": "eab4e4f0",
   "metadata": {},
   "source": [
    "### 6091"
   ]
  },
  {
   "cell_type": "code",
   "execution_count": 1,
   "id": "b84c7ac0",
   "metadata": {},
   "outputs": [
    {
     "name": "stdout",
     "output_type": "stream",
     "text": [
      "3 7 9\n",
      "63\n"
     ]
    }
   ],
   "source": [
    "a, b, c = input().split()\n",
    "a = int(a)\n",
    "b = int(b)\n",
    "c = int(c)\n",
    "d = 1\n",
    "\n",
    "while d%a !=0 or d%b !=0 or d%c !=0 :\n",
    "    d += 1\n",
    "\n",
    "print(d)"
   ]
  },
  {
   "cell_type": "markdown",
   "id": "879441e6",
   "metadata": {},
   "source": [
    "### 6092"
   ]
  },
  {
   "cell_type": "code",
   "execution_count": 3,
   "id": "471a5b51",
   "metadata": {},
   "outputs": [
    {
     "name": "stdout",
     "output_type": "stream",
     "text": [
      "10\n",
      "1 3 2 2 5 6 7 4 5 9\n",
      "1 2 1 1 2 1 1 0 1 0 0 0 0 0 0 0 0 0 0 0 0 0 0 "
     ]
    }
   ],
   "source": [
    "n = int(input())\n",
    "a = input().split()\n",
    "\n",
    "for i in range(n):\n",
    "    a[i] = int(a[i])\n",
    "    \n",
    "d = []\n",
    "for i in range(24):\n",
    "    d.append(0)\n",
    "    \n",
    "for i in range(n):\n",
    "    d[a[i]] += 1\n",
    "    \n",
    "for i in range(1, 24):\n",
    "    print(d[i], end = ' ')"
   ]
  },
  {
   "cell_type": "markdown",
   "id": "ae57842c",
   "metadata": {},
   "source": [
    "### 6093"
   ]
  },
  {
   "cell_type": "code",
   "execution_count": 4,
   "id": "d6901a0e",
   "metadata": {},
   "outputs": [
    {
     "name": "stdout",
     "output_type": "stream",
     "text": [
      "10\n",
      "10 4 2 3 6 6 7 9 8 5\n",
      "5 8 9 7 6 6 3 2 4 10 "
     ]
    }
   ],
   "source": [
    "n = int(input())\n",
    "a = input().split()\n",
    "d= []\n",
    "\n",
    "for i in range(n):\n",
    "    a[i] = int(a[i])\n",
    "    d.append(a[i])\n",
    "\n",
    "for i in range(n-1, -1, -1):\n",
    "    print(d[i], end = ' ')"
   ]
  },
  {
   "cell_type": "markdown",
   "id": "9d9ddaac",
   "metadata": {},
   "source": [
    "### 6094"
   ]
  },
  {
   "cell_type": "code",
   "execution_count": 7,
   "id": "20568e14",
   "metadata": {},
   "outputs": [
    {
     "name": "stdout",
     "output_type": "stream",
     "text": [
      "10\n",
      "10 4 2 3 6 6 7 9 8 5\n",
      "2\n"
     ]
    }
   ],
   "source": [
    "n = int(input())\n",
    "a = input().split()\n",
    "min_ = 10000\n",
    "\n",
    "for i in range(n):\n",
    "    a[i] = int(a[i])\n",
    "    if min_ >= a[i]:\n",
    "        min_ = a[i]\n",
    "        \n",
    "print(min_)"
   ]
  },
  {
   "cell_type": "markdown",
   "id": "a6454a59",
   "metadata": {},
   "source": [
    "### 6095"
   ]
  },
  {
   "cell_type": "code",
   "execution_count": 9,
   "id": "0779130b",
   "metadata": {},
   "outputs": [
    {
     "name": "stdout",
     "output_type": "stream",
     "text": [
      "5\n",
      "1 1\n",
      "2 2\n",
      "3 3\n",
      "4 4\n",
      "5 5\n",
      "1 0 0 0 0 0 0 0 0 0 0 0 0 0 0 0 0 0 0 \n",
      "0 1 0 0 0 0 0 0 0 0 0 0 0 0 0 0 0 0 0 \n",
      "0 0 1 0 0 0 0 0 0 0 0 0 0 0 0 0 0 0 0 \n",
      "0 0 0 1 0 0 0 0 0 0 0 0 0 0 0 0 0 0 0 \n",
      "0 0 0 0 1 0 0 0 0 0 0 0 0 0 0 0 0 0 0 \n",
      "0 0 0 0 0 0 0 0 0 0 0 0 0 0 0 0 0 0 0 \n",
      "0 0 0 0 0 0 0 0 0 0 0 0 0 0 0 0 0 0 0 \n",
      "0 0 0 0 0 0 0 0 0 0 0 0 0 0 0 0 0 0 0 \n",
      "0 0 0 0 0 0 0 0 0 0 0 0 0 0 0 0 0 0 0 \n",
      "0 0 0 0 0 0 0 0 0 0 0 0 0 0 0 0 0 0 0 \n",
      "0 0 0 0 0 0 0 0 0 0 0 0 0 0 0 0 0 0 0 \n",
      "0 0 0 0 0 0 0 0 0 0 0 0 0 0 0 0 0 0 0 \n",
      "0 0 0 0 0 0 0 0 0 0 0 0 0 0 0 0 0 0 0 \n",
      "0 0 0 0 0 0 0 0 0 0 0 0 0 0 0 0 0 0 0 \n",
      "0 0 0 0 0 0 0 0 0 0 0 0 0 0 0 0 0 0 0 \n",
      "0 0 0 0 0 0 0 0 0 0 0 0 0 0 0 0 0 0 0 \n",
      "0 0 0 0 0 0 0 0 0 0 0 0 0 0 0 0 0 0 0 \n",
      "0 0 0 0 0 0 0 0 0 0 0 0 0 0 0 0 0 0 0 \n",
      "0 0 0 0 0 0 0 0 0 0 0 0 0 0 0 0 0 0 0 \n"
     ]
    }
   ],
   "source": [
    "d = []\n",
    "\n",
    "for i in range(20):\n",
    "    d.append([])\n",
    "    for j in range(20):\n",
    "        d[i].append(0)\n",
    "        \n",
    "n = int(input())\n",
    "for i in range(n):\n",
    "    x, y = input().split()\n",
    "    d[int(x)][int(y)] = 1\n",
    "    \n",
    "for i in range(1, 20):\n",
    "    for j in range(1, 20):\n",
    "        print(d[i][j], end = ' ')\n",
    "    print()"
   ]
  },
  {
   "cell_type": "markdown",
   "id": "23ab6aef",
   "metadata": {},
   "source": [
    "### 6096 - 이해하기"
   ]
  },
  {
   "cell_type": "code",
   "execution_count": 11,
   "id": "a1b5283b",
   "metadata": {
    "collapsed": true
   },
   "outputs": [
    {
     "name": "stdout",
     "output_type": "stream",
     "text": [
      "0 0 0 0 0 0 0 0 0 1 0 1 0 0 0 0 0 0 0 0 0 0 0 0 0 0 0 0 1 0 1 0 0 0 0 0 0 0 0 0 0 0 0 0 0 0 0 1 0 1 0 0 0 0 0 0 0 0 0 0 0 0 0 0 0 0 1 0 1 0 0 0 0 0 0 0 0 0 0 0 0 0 0 0 0 1 0 1 0 0 0 0 0 0 0 0 0 0 0 0 0 0 0 0 1 0 1 0 0 0 0 0 0 0 0 0 0 0 0 0 0 0 0 1 0 1 0 0 0 0 0 0 0 0 0 0 0 0 0 0 0 0 1 0 1 0 0 0 0 0 0 0 0 0 0 0 0 0 0 0 0 1 0 1 0 0 0 0 0 0 0 1 1 1 1 1 1 1 1 1 1 1 1 1 1 1 1 1 1 1 0 0 0 0 0 0 0 0 0 1 0 1 0 0 0 0 0 0 0 1 1 1 1 1 1 1 1 1 1 1 1 1 1 1 1 1 1 1 0 0 0 0 0 0 0 0 0 1 0 1 0 0 0 0 0 0 0 0 0 0 0 0 0 0 0 0 1 0 1 0 0 0 0 0 0 0 0 0 0 0 0 0 0 0 0 1 0 1 0 0 0 0 0 0 0 0 0 0 0 0 0 0 0 0 1 0 1 0 0 0 0 0 0 0 0 0 0 0 0 0 0 0 0 1 0 1 0 0 0 0 0 0 0 0 0 0 0 0 0 0 0 0 1 0 1 0 0 0 0 0 0 0 0 0 0 0 0 0 0 0 0 1 0 1 0 0 0 0 0 0 0\n",
      "2\n"
     ]
    },
    {
     "ename": "IndexError",
     "evalue": "list index out of range",
     "output_type": "error",
     "traceback": [
      "\u001b[1;31m---------------------------------------------------------------------------\u001b[0m",
      "\u001b[1;31mIndexError\u001b[0m                                Traceback (most recent call last)",
      "Input \u001b[1;32mIn [11]\u001b[0m, in \u001b[0;36m<cell line: 8>\u001b[1;34m()\u001b[0m\n\u001b[0;32m      9\u001b[0m     a \u001b[38;5;241m=\u001b[39m \u001b[38;5;28minput\u001b[39m()\u001b[38;5;241m.\u001b[39msplit()\n\u001b[0;32m     10\u001b[0m     \u001b[38;5;28;01mfor\u001b[39;00m j \u001b[38;5;129;01min\u001b[39;00m \u001b[38;5;28mrange\u001b[39m(\u001b[38;5;241m19\u001b[39m):\n\u001b[1;32m---> 11\u001b[0m         d[i\u001b[38;5;241m+\u001b[39m\u001b[38;5;241m1\u001b[39m][j\u001b[38;5;241m+\u001b[39m\u001b[38;5;241m1\u001b[39m] \u001b[38;5;241m=\u001b[39m \u001b[38;5;28mint\u001b[39m(\u001b[43ma\u001b[49m\u001b[43m[\u001b[49m\u001b[43mj\u001b[49m\u001b[43m]\u001b[49m)\n\u001b[0;32m     13\u001b[0m n \u001b[38;5;241m=\u001b[39m \u001b[38;5;28mint\u001b[39m(\u001b[38;5;28minput\u001b[39m())\n\u001b[0;32m     14\u001b[0m \u001b[38;5;28;01mfor\u001b[39;00m i \u001b[38;5;129;01min\u001b[39;00m \u001b[38;5;28mrange\u001b[39m(n) :\n",
      "\u001b[1;31mIndexError\u001b[0m: list index out of range"
     ]
    }
   ],
   "source": [
    "# My Code (Fail)\n",
    "d = []\n",
    "\n",
    "for i in range(20):\n",
    "    d.append([])\n",
    "    for j in range(20):\n",
    "        d[i].append(0)\n",
    "        \n",
    "for i in range(19):\n",
    "    a = input().split()\n",
    "    for j in range(19):\n",
    "        d[i+1][j+1] = int(a[j])\n",
    "        \n",
    "n = int(input())\n",
    "for i in range(n) :\n",
    "    x, y = input().split()\n",
    "    x = int(x)\n",
    "    y = int(y)\n",
    "    \n",
    "    for j in range(1, 20):\n",
    "        if d[j][y] == 0:\n",
    "            d[j][y] = 1\n",
    "        else:\n",
    "            d[j][y] = 0\n",
    "            \n",
    "        if d[x][j] == 0:\n",
    "            d[x][j] = 1\n",
    "        else:\n",
    "            d[x][j] = 0\n",
    "            \n",
    "for j in range(1, 20):\n",
    "    for j in range(1, 20):\n",
    "        print(d[i][j], end = ' ')\n",
    "    print()"
   ]
  },
  {
   "cell_type": "code",
   "execution_count": 12,
   "id": "f633099f",
   "metadata": {
    "collapsed": true
   },
   "outputs": [
    {
     "ename": "KeyboardInterrupt",
     "evalue": "Interrupted by user",
     "output_type": "error",
     "traceback": [
      "\u001b[1;31m---------------------------------------------------------------------------\u001b[0m",
      "\u001b[1;31mKeyboardInterrupt\u001b[0m                         Traceback (most recent call last)",
      "Input \u001b[1;32mIn [12]\u001b[0m, in \u001b[0;36m<cell line: 9>\u001b[1;34m()\u001b[0m\n\u001b[0;32m      7\u001b[0m         d[i]\u001b[38;5;241m.\u001b[39mappend(\u001b[38;5;241m0\u001b[39m)\n\u001b[0;32m      9\u001b[0m \u001b[38;5;28;01mfor\u001b[39;00m i \u001b[38;5;129;01min\u001b[39;00m \u001b[38;5;28mrange\u001b[39m(\u001b[38;5;241m19\u001b[39m) :\n\u001b[1;32m---> 10\u001b[0m     a \u001b[38;5;241m=\u001b[39m \u001b[38;5;28;43minput\u001b[39;49m\u001b[43m(\u001b[49m\u001b[43m)\u001b[49m\u001b[38;5;241m.\u001b[39msplit()\n\u001b[0;32m     11\u001b[0m     \u001b[38;5;28;01mfor\u001b[39;00m j \u001b[38;5;129;01min\u001b[39;00m \u001b[38;5;28mrange\u001b[39m(\u001b[38;5;241m19\u001b[39m) :\n\u001b[0;32m     12\u001b[0m         d[i\u001b[38;5;241m+\u001b[39m\u001b[38;5;241m1\u001b[39m][j\u001b[38;5;241m+\u001b[39m\u001b[38;5;241m1\u001b[39m] \u001b[38;5;241m=\u001b[39m \u001b[38;5;28mint\u001b[39m(a[j])\n",
      "File \u001b[1;32m~\\anaconda3\\lib\\site-packages\\ipykernel\\kernelbase.py:1075\u001b[0m, in \u001b[0;36mKernel.raw_input\u001b[1;34m(self, prompt)\u001b[0m\n\u001b[0;32m   1071\u001b[0m \u001b[38;5;28;01mif\u001b[39;00m \u001b[38;5;129;01mnot\u001b[39;00m \u001b[38;5;28mself\u001b[39m\u001b[38;5;241m.\u001b[39m_allow_stdin:\n\u001b[0;32m   1072\u001b[0m     \u001b[38;5;28;01mraise\u001b[39;00m StdinNotImplementedError(\n\u001b[0;32m   1073\u001b[0m         \u001b[38;5;124m\"\u001b[39m\u001b[38;5;124mraw_input was called, but this frontend does not support input requests.\u001b[39m\u001b[38;5;124m\"\u001b[39m\n\u001b[0;32m   1074\u001b[0m     )\n\u001b[1;32m-> 1075\u001b[0m \u001b[38;5;28;01mreturn\u001b[39;00m \u001b[38;5;28;43mself\u001b[39;49m\u001b[38;5;241;43m.\u001b[39;49m\u001b[43m_input_request\u001b[49m\u001b[43m(\u001b[49m\n\u001b[0;32m   1076\u001b[0m \u001b[43m    \u001b[49m\u001b[38;5;28;43mstr\u001b[39;49m\u001b[43m(\u001b[49m\u001b[43mprompt\u001b[49m\u001b[43m)\u001b[49m\u001b[43m,\u001b[49m\n\u001b[0;32m   1077\u001b[0m \u001b[43m    \u001b[49m\u001b[38;5;28;43mself\u001b[39;49m\u001b[38;5;241;43m.\u001b[39;49m\u001b[43m_parent_ident\u001b[49m\u001b[43m[\u001b[49m\u001b[38;5;124;43m\"\u001b[39;49m\u001b[38;5;124;43mshell\u001b[39;49m\u001b[38;5;124;43m\"\u001b[39;49m\u001b[43m]\u001b[49m\u001b[43m,\u001b[49m\n\u001b[0;32m   1078\u001b[0m \u001b[43m    \u001b[49m\u001b[38;5;28;43mself\u001b[39;49m\u001b[38;5;241;43m.\u001b[39;49m\u001b[43mget_parent\u001b[49m\u001b[43m(\u001b[49m\u001b[38;5;124;43m\"\u001b[39;49m\u001b[38;5;124;43mshell\u001b[39;49m\u001b[38;5;124;43m\"\u001b[39;49m\u001b[43m)\u001b[49m\u001b[43m,\u001b[49m\n\u001b[0;32m   1079\u001b[0m \u001b[43m    \u001b[49m\u001b[43mpassword\u001b[49m\u001b[38;5;241;43m=\u001b[39;49m\u001b[38;5;28;43;01mFalse\u001b[39;49;00m\u001b[43m,\u001b[49m\n\u001b[0;32m   1080\u001b[0m \u001b[43m\u001b[49m\u001b[43m)\u001b[49m\n",
      "File \u001b[1;32m~\\anaconda3\\lib\\site-packages\\ipykernel\\kernelbase.py:1120\u001b[0m, in \u001b[0;36mKernel._input_request\u001b[1;34m(self, prompt, ident, parent, password)\u001b[0m\n\u001b[0;32m   1117\u001b[0m             \u001b[38;5;28;01mbreak\u001b[39;00m\n\u001b[0;32m   1118\u001b[0m \u001b[38;5;28;01mexcept\u001b[39;00m \u001b[38;5;167;01mKeyboardInterrupt\u001b[39;00m:\n\u001b[0;32m   1119\u001b[0m     \u001b[38;5;66;03m# re-raise KeyboardInterrupt, to truncate traceback\u001b[39;00m\n\u001b[1;32m-> 1120\u001b[0m     \u001b[38;5;28;01mraise\u001b[39;00m \u001b[38;5;167;01mKeyboardInterrupt\u001b[39;00m(\u001b[38;5;124m\"\u001b[39m\u001b[38;5;124mInterrupted by user\u001b[39m\u001b[38;5;124m\"\u001b[39m) \u001b[38;5;28;01mfrom\u001b[39;00m \u001b[38;5;28mNone\u001b[39m\n\u001b[0;32m   1121\u001b[0m \u001b[38;5;28;01mexcept\u001b[39;00m \u001b[38;5;167;01mException\u001b[39;00m:\n\u001b[0;32m   1122\u001b[0m     \u001b[38;5;28mself\u001b[39m\u001b[38;5;241m.\u001b[39mlog\u001b[38;5;241m.\u001b[39mwarning(\u001b[38;5;124m\"\u001b[39m\u001b[38;5;124mInvalid Message:\u001b[39m\u001b[38;5;124m\"\u001b[39m, exc_info\u001b[38;5;241m=\u001b[39m\u001b[38;5;28;01mTrue\u001b[39;00m)\n",
      "\u001b[1;31mKeyboardInterrupt\u001b[0m: Interrupted by user"
     ]
    }
   ],
   "source": [
    "# Answer Code (Pass)\n",
    "\n",
    "d=[]\n",
    "for i in range(20) :\n",
    "    d.append([])\n",
    "    for j in range(20) : \n",
    "        d[i].append(0)\n",
    "\n",
    "for i in range(19) :\n",
    "    a = input().split()\n",
    "    for j in range(19) :\n",
    "        d[i+1][j+1] = int(a[j])\n",
    "\n",
    "n = int(input())\n",
    "\n",
    "for i in range(n) :\n",
    "    x,y=input().split()\n",
    "    x=int(x)\n",
    "    y=int(y)\n",
    "    for j in range(1, 20) :\n",
    "        if d[j][y]==0 :\n",
    "            d[j][y]=1\n",
    "        else :\n",
    "            d[j][y]=0\n",
    "\n",
    "        if d[x][j]==0 :\n",
    "            d[x][j]=1\n",
    "        else :\n",
    "            d[x][j]=0\n",
    "\n",
    "for i in range(1, 20) :\n",
    "    for j in range(1, 20) :\n",
    "        print(d[i][j], end=' ')\n",
    "    print()\n",
    "    \n",
    "#1 split() : 공백, enter 모두 판단하고 잘라줌, enter일 때 처리 다르게 할 필요 X\n",
    "#2 "
   ]
  },
  {
   "cell_type": "markdown",
   "id": "09210f4f",
   "metadata": {},
   "source": [
    "### 6097 - Q"
   ]
  },
  {
   "cell_type": "code",
   "execution_count": null,
   "id": "8641e334",
   "metadata": {},
   "outputs": [],
   "source": [
    "h, w = input().split()\n",
    "h = int(h) # 세로\n",
    "w = int(w) # 가로\n",
    "n = int(input()) # 막대 개수\n",
    "\n",
    "length = []\n",
    "direction = []\n",
    "loc = []\n",
    "temp = []\n",
    "grid = []\n",
    "\n",
    "\n",
    "for i in range(h+1):\n",
    "    grid.append([])\n",
    "    for j in range(w+1):\n",
    "        grid[i].append(0)\n",
    "\n",
    "for i in range(n):\n",
    "    temp = input().split()\n",
    "    length.append(int(temp[0]))\n",
    "    direction.append(int(temp[1]))\n",
    "    loc.append([])\n",
    "    loc[i].append(int(temp[2]))\n",
    "    loc[i].append(int(temp[3]))\n",
    "    temp = []\n",
    "\n",
    "\n",
    "for i in range(n): \n",
    "    for n1 in range(h):\n",
    "        for n2 in range(w):\n",
    "            print(grid[n2+1][n1+1], end = ' ')\n",
    "        print()\n",
    "    print()\n",
    "\n",
    "    if direction[i] == 0: #가로\n",
    "        for j in range(length[i]):\n",
    "                if grid[loc[i][1]+j][loc[i][0]] == 0:\n",
    "                    grid[loc[i][1]+j][loc[i][0]] = 1\n",
    "                    \n",
    "    if direction[i] == 1: #세로\n",
    "        for j in range(length[i]):\n",
    "                if grid[loc[i][1]][loc[i][0]+j] == 0:\n",
    "                    grid[loc[i][1]][loc[i][0]+j] = 1\n",
    "                    \n",
    "for n1 in range(h):\n",
    "    for n2 in range(w):\n",
    "        print(grid[n2+1][n1+1], end = ' ')\n",
    "    print()\n",
    "\n",
    "#1 append는 1개씩만 넣는 함수다\n",
    "#2 x, y좌표 이해도 부족 -> 오래 걸렸음, 아직 연습 더 필요함"
   ]
  },
  {
   "cell_type": "code",
   "execution_count": 56,
   "id": "1186711a",
   "metadata": {},
   "outputs": [
    {
     "name": "stdout",
     "output_type": "stream",
     "text": [
      "6 3\n",
      "3\n",
      "3 1 1 1\n",
      "3 1 1 2\n",
      "3 1 1 3\n",
      "1 1 1 \n",
      "1 1 1 \n",
      "1 1 1 \n",
      "0 0 0 \n",
      "0 0 0 \n",
      "0 0 0 \n"
     ]
    }
   ],
   "source": [
    "# Internet Answer\n",
    "\n",
    "h,w = input().split()\n",
    "h = int(h)\n",
    "w = int(w)\n",
    "\n",
    "m = [] #11111111111111111111111111111111111111111111111111\n",
    "for i in range(h+1) :\n",
    "    m.append([])\n",
    "    for j in range(w+1) :\n",
    "        m[i].append(0)\n",
    "\n",
    "n = int(input())\n",
    "for i in range(n) :\n",
    "    l,d,x,y = input().split()\n",
    "    if int(d)==0 :\n",
    "        for j in range(int(l)) :\n",
    "            m[int(x)][int(y)+j] = 1\n",
    "    else :\n",
    "        for j in range(int(l)) :\n",
    "            m[int(x)+j][int(y)] = 1\n",
    "\n",
    "for i in range(1, h+1) :\n",
    "    for j in range(1, w+1) :\n",
    "        print(m[i][j], end=' ')\n",
    "    print()\n",
    "    \n",
    "#1 한줄 코딩으로 짧게 줄일 수 있다!"
   ]
  },
  {
   "cell_type": "markdown",
   "id": "cb9844f4",
   "metadata": {},
   "source": [
    "### 6098 - Q"
   ]
  },
  {
   "cell_type": "code",
   "execution_count": 76,
   "id": "0f59df13",
   "metadata": {
    "collapsed": true
   },
   "outputs": [
    {
     "name": "stdout",
     "output_type": "stream",
     "text": [
      "1 1 1 1 1 1 1 1 1 1 1 0 0 1 0 0 0 0 0 1 1 0 0 1 1 1 0 0 0 1 1 0 0 0 0 0 0 1 0 1 1 0 0 0 0 0 0 1 0 1 1 0 0 0 0 1 0 1 0 1 1 0 0 0 0 1 2 1 0 1 1 0 0 0 0 1 0 0 0 1 1 0 0 0 0 0 0 0 0 1 1 1 1 1 1 1 1 1 1 1\n",
      "1 1 1 1 1 1 1 1 1 1 \n",
      "1 0 0 1 0 0 0 0 0 1 \n",
      "1 0 0 1 1 1 0 0 0 1 \n",
      "1 0 0 0 0 0 0 1 0 1 \n",
      "1 0 0 0 0 0 0 1 0 1 \n",
      "1 0 0 0 0 1 0 1 0 1 \n",
      "1 0 0 0 0 1 2 1 0 1 \n",
      "1 0 0 0 0 1 0 0 0 1 \n",
      "1 0 0 0 0 0 0 0 0 1 \n",
      "1 1 1 1 1 1 1 1 1 1 \n",
      "0 0\n",
      "out\n",
      "\n",
      "0 1\n",
      "out\n",
      "\n",
      "0 2\n",
      "out\n",
      "\n",
      "0 3\n",
      "out\n",
      "\n",
      "0 4\n",
      "out\n",
      "\n",
      "0 5\n",
      "out\n",
      "\n",
      "0 6\n",
      "out\n",
      "\n",
      "0 7\n",
      "out\n",
      "\n",
      "0 8\n",
      "out\n",
      "\n",
      "0 9\n",
      "out\n",
      "\n",
      "1 0\n",
      "out\n",
      "\n",
      "1 1\n",
      "in\n",
      "1 1 1 1 1 1 1 1 1 1 \n",
      "1 0 0 1 0 0 0 0 0 1 \n",
      "1 0 0 1 1 1 0 0 0 1 \n",
      "1 0 0 0 0 0 0 1 0 1 \n",
      "1 0 0 0 0 0 0 1 0 1 \n",
      "1 0 0 0 0 1 0 1 0 1 \n",
      "1 0 0 0 0 1 2 1 0 1 \n",
      "1 0 0 0 0 1 0 0 0 1 \n",
      "1 0 0 0 0 0 0 0 0 1 \n",
      "1 1 1 1 1 1 1 1 1 1 \n"
     ]
    },
    {
     "ename": "IndexError",
     "evalue": "list index out of range",
     "output_type": "error",
     "traceback": [
      "\u001b[1;31m---------------------------------------------------------------------------\u001b[0m",
      "\u001b[1;31mIndexError\u001b[0m                                Traceback (most recent call last)",
      "Input \u001b[1;32mIn [76]\u001b[0m, in \u001b[0;36m<cell line: 15>\u001b[1;34m()\u001b[0m\n\u001b[0;32m     24\u001b[0m         \u001b[38;5;28mprint\u001b[39m(grid[i][j], end \u001b[38;5;241m=\u001b[39m \u001b[38;5;124m'\u001b[39m\u001b[38;5;124m \u001b[39m\u001b[38;5;124m'\u001b[39m)\n\u001b[0;32m     25\u001b[0m     \u001b[38;5;28mprint\u001b[39m()\n\u001b[1;32m---> 27\u001b[0m \u001b[38;5;28;01mif\u001b[39;00m \u001b[43mgrid\u001b[49m\u001b[43m[\u001b[49m\u001b[43mi\u001b[49m\u001b[43m]\u001b[49m\u001b[43m[\u001b[49m\u001b[43mj\u001b[49m\u001b[38;5;241;43m+\u001b[39;49m\u001b[38;5;241;43m1\u001b[39;49m\u001b[43m]\u001b[49m :\n\u001b[0;32m     28\u001b[0m     grid[i][j\u001b[38;5;241m+\u001b[39m\u001b[38;5;241m1\u001b[39m] \u001b[38;5;241m=\u001b[39m \u001b[38;5;241m9\u001b[39m\n\u001b[0;32m     29\u001b[0m     loc[\u001b[38;5;241m0\u001b[39m] \u001b[38;5;241m=\u001b[39m i\n",
      "\u001b[1;31mIndexError\u001b[0m: list index out of range"
     ]
    }
   ],
   "source": [
    "# My Code (Fail)\n",
    "\n",
    "temp = input().split()\n",
    "grid = []\n",
    "for i in range(10):\n",
    "    grid.append([])\n",
    "    for j in range(10):\n",
    "        grid[i].append(temp[10*i+j])\n",
    "        \n",
    "loc = [1, 1]\n",
    "\n",
    "for i in range(10):\n",
    "    for j in range(10):\n",
    "        print(grid[i][j], end = ' ')\n",
    "    print()\n",
    "\n",
    "for i in range(10):\n",
    "    for j in range(10):\n",
    "        print(i, j)\n",
    "\n",
    "        if i == loc[0] and j == loc[1]:\n",
    "            print('in')\n",
    "            \n",
    "            for i in range(10):\n",
    "                for j in range(10):\n",
    "                    print(grid[i][j], end = ' ')\n",
    "                print()\n",
    "        \n",
    "            if grid[i][j+1] == 0:\n",
    "                grid[i][j+1] = 9\n",
    "                loc[0] = i\n",
    "                loc[1] = j+1\n",
    "                \n",
    "            elif grid[i][j+1] == 1:\n",
    "                grid[i+1][j] = 9\n",
    "                loc[0] = i+1\n",
    "                loc[1] = j\n",
    "                \n",
    "            elif grid[i][j] == 2:\n",
    "                grid[i][j] = 9\n",
    "                break\n",
    "            \n",
    "        print('out')\n",
    "        print()\n",
    "            \n"
   ]
  },
  {
   "cell_type": "code",
   "execution_count": 80,
   "id": "a5624223",
   "metadata": {
    "collapsed": true
   },
   "outputs": [
    {
     "name": "stdout",
     "output_type": "stream",
     "text": [
      "1 1 1 1 1 1 1 1 1 1 1 0 0 1 0 0 0 0 0 1 1 0 0 1 1 1 0 0 0 1 1 0 0 0 0 0 0 1 0 1 1 0 0 0 0 0 0 1 0 1 1 0 0 0 0 1 0 1 0 1 1 0 0 0 0 1 2 1 0 1 1 0 0 0 0 1 0 0 0 1 1 0 0 0 0 0 0 0 0 1 1 1 1 1 1 1 1 1 1 1\n"
     ]
    },
    {
     "ename": "KeyboardInterrupt",
     "evalue": "Interrupted by user",
     "output_type": "error",
     "traceback": [
      "\u001b[1;31m---------------------------------------------------------------------------\u001b[0m",
      "\u001b[1;31mKeyboardInterrupt\u001b[0m                         Traceback (most recent call last)",
      "Input \u001b[1;32mIn [80]\u001b[0m, in \u001b[0;36m<cell line: 2>\u001b[1;34m()\u001b[0m\n\u001b[0;32m      1\u001b[0m board\u001b[38;5;241m=\u001b[39m[[]\u001b[38;5;241m*\u001b[39m\u001b[38;5;241m10\u001b[39m \u001b[38;5;28;01mfor\u001b[39;00m _ \u001b[38;5;129;01min\u001b[39;00m \u001b[38;5;28mrange\u001b[39m(\u001b[38;5;241m10\u001b[39m)]\n\u001b[0;32m      2\u001b[0m \u001b[38;5;28;01mfor\u001b[39;00m i \u001b[38;5;129;01min\u001b[39;00m \u001b[38;5;28mrange\u001b[39m(\u001b[38;5;241m10\u001b[39m):\n\u001b[1;32m----> 3\u001b[0m     board[i]\u001b[38;5;241m=\u001b[39m\u001b[38;5;28mlist\u001b[39m(\u001b[38;5;28mmap\u001b[39m(\u001b[38;5;28mint\u001b[39m,\u001b[38;5;28;43minput\u001b[39;49m\u001b[43m(\u001b[49m\u001b[43m)\u001b[49m\u001b[38;5;241m.\u001b[39msplit()))\n\u001b[0;32m      4\u001b[0m x\u001b[38;5;241m=\u001b[39m\u001b[38;5;241m1\u001b[39m\n\u001b[0;32m      5\u001b[0m y\u001b[38;5;241m=\u001b[39m\u001b[38;5;241m1\u001b[39m\n",
      "File \u001b[1;32m~\\anaconda3\\lib\\site-packages\\ipykernel\\kernelbase.py:1075\u001b[0m, in \u001b[0;36mKernel.raw_input\u001b[1;34m(self, prompt)\u001b[0m\n\u001b[0;32m   1071\u001b[0m \u001b[38;5;28;01mif\u001b[39;00m \u001b[38;5;129;01mnot\u001b[39;00m \u001b[38;5;28mself\u001b[39m\u001b[38;5;241m.\u001b[39m_allow_stdin:\n\u001b[0;32m   1072\u001b[0m     \u001b[38;5;28;01mraise\u001b[39;00m StdinNotImplementedError(\n\u001b[0;32m   1073\u001b[0m         \u001b[38;5;124m\"\u001b[39m\u001b[38;5;124mraw_input was called, but this frontend does not support input requests.\u001b[39m\u001b[38;5;124m\"\u001b[39m\n\u001b[0;32m   1074\u001b[0m     )\n\u001b[1;32m-> 1075\u001b[0m \u001b[38;5;28;01mreturn\u001b[39;00m \u001b[38;5;28;43mself\u001b[39;49m\u001b[38;5;241;43m.\u001b[39;49m\u001b[43m_input_request\u001b[49m\u001b[43m(\u001b[49m\n\u001b[0;32m   1076\u001b[0m \u001b[43m    \u001b[49m\u001b[38;5;28;43mstr\u001b[39;49m\u001b[43m(\u001b[49m\u001b[43mprompt\u001b[49m\u001b[43m)\u001b[49m\u001b[43m,\u001b[49m\n\u001b[0;32m   1077\u001b[0m \u001b[43m    \u001b[49m\u001b[38;5;28;43mself\u001b[39;49m\u001b[38;5;241;43m.\u001b[39;49m\u001b[43m_parent_ident\u001b[49m\u001b[43m[\u001b[49m\u001b[38;5;124;43m\"\u001b[39;49m\u001b[38;5;124;43mshell\u001b[39;49m\u001b[38;5;124;43m\"\u001b[39;49m\u001b[43m]\u001b[49m\u001b[43m,\u001b[49m\n\u001b[0;32m   1078\u001b[0m \u001b[43m    \u001b[49m\u001b[38;5;28;43mself\u001b[39;49m\u001b[38;5;241;43m.\u001b[39;49m\u001b[43mget_parent\u001b[49m\u001b[43m(\u001b[49m\u001b[38;5;124;43m\"\u001b[39;49m\u001b[38;5;124;43mshell\u001b[39;49m\u001b[38;5;124;43m\"\u001b[39;49m\u001b[43m)\u001b[49m\u001b[43m,\u001b[49m\n\u001b[0;32m   1079\u001b[0m \u001b[43m    \u001b[49m\u001b[43mpassword\u001b[49m\u001b[38;5;241;43m=\u001b[39;49m\u001b[38;5;28;43;01mFalse\u001b[39;49;00m\u001b[43m,\u001b[49m\n\u001b[0;32m   1080\u001b[0m \u001b[43m\u001b[49m\u001b[43m)\u001b[49m\n",
      "File \u001b[1;32m~\\anaconda3\\lib\\site-packages\\ipykernel\\kernelbase.py:1120\u001b[0m, in \u001b[0;36mKernel._input_request\u001b[1;34m(self, prompt, ident, parent, password)\u001b[0m\n\u001b[0;32m   1117\u001b[0m             \u001b[38;5;28;01mbreak\u001b[39;00m\n\u001b[0;32m   1118\u001b[0m \u001b[38;5;28;01mexcept\u001b[39;00m \u001b[38;5;167;01mKeyboardInterrupt\u001b[39;00m:\n\u001b[0;32m   1119\u001b[0m     \u001b[38;5;66;03m# re-raise KeyboardInterrupt, to truncate traceback\u001b[39;00m\n\u001b[1;32m-> 1120\u001b[0m     \u001b[38;5;28;01mraise\u001b[39;00m \u001b[38;5;167;01mKeyboardInterrupt\u001b[39;00m(\u001b[38;5;124m\"\u001b[39m\u001b[38;5;124mInterrupted by user\u001b[39m\u001b[38;5;124m\"\u001b[39m) \u001b[38;5;28;01mfrom\u001b[39;00m \u001b[38;5;28mNone\u001b[39m\n\u001b[0;32m   1121\u001b[0m \u001b[38;5;28;01mexcept\u001b[39;00m \u001b[38;5;167;01mException\u001b[39;00m:\n\u001b[0;32m   1122\u001b[0m     \u001b[38;5;28mself\u001b[39m\u001b[38;5;241m.\u001b[39mlog\u001b[38;5;241m.\u001b[39mwarning(\u001b[38;5;124m\"\u001b[39m\u001b[38;5;124mInvalid Message:\u001b[39m\u001b[38;5;124m\"\u001b[39m, exc_info\u001b[38;5;241m=\u001b[39m\u001b[38;5;28;01mTrue\u001b[39;00m)\n",
      "\u001b[1;31mKeyboardInterrupt\u001b[0m: Interrupted by user"
     ]
    }
   ],
   "source": [
    "# Answer Code(Pass)\n",
    "\n",
    "m=[]\n",
    "for i in range(12) :\n",
    "    m.append([])\n",
    "    for j in range(12) :\n",
    "        m[i].append(0)\n",
    "\n",
    "for i in range(10) :\n",
    "    a=input().split()\n",
    "    for j in range(10) :\n",
    "        m[i+1][j+1]=int(a[j])\n",
    "\n",
    "x = 2\n",
    "y = 2\n",
    "while True :\n",
    "    if m[x][y] == 0 :\n",
    "        m[x][y] = 9\n",
    "    elif m[x][y] == 2 :\n",
    "        m[x][y] = 9\n",
    "        break\n",
    "\n",
    "    if (m[x][y+1]==1 and m[x+1][y]==1) or (x==9 and y==9) :\n",
    "        break\n",
    "\n",
    "    if m[x][y+1] != 1 :\n",
    "        y += 1\n",
    "    elif m[x+1][y] != 1 :\n",
    "        x += 1\n",
    "    \n",
    "\n",
    "for i in range(1, 11) :\n",
    "    for j in range(1, 11) :\n",
    "        print(m[i][j], end=' ')\n",
    "    print()\n",
    "    \n",
    "#Input 넣는 방법이 다르네, 쟤네들은 enter가 들어가니까 그거처럼 넣어야 하네.."
   ]
  },
  {
   "cell_type": "markdown",
   "id": "31d62063",
   "metadata": {},
   "source": [
    "### 6099 - 열람 불가"
   ]
  },
  {
   "cell_type": "code",
   "execution_count": null,
   "id": "07499d18",
   "metadata": {},
   "outputs": [],
   "source": []
  }
 ],
 "metadata": {
  "kernelspec": {
   "display_name": "Python 3 (ipykernel)",
   "language": "python",
   "name": "python3"
  },
  "language_info": {
   "codemirror_mode": {
    "name": "ipython",
    "version": 3
   },
   "file_extension": ".py",
   "mimetype": "text/x-python",
   "name": "python",
   "nbconvert_exporter": "python",
   "pygments_lexer": "ipython3",
   "version": "3.9.12"
  }
 },
 "nbformat": 4,
 "nbformat_minor": 5
}
